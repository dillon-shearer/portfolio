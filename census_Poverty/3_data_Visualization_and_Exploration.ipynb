{
 "cells": [
  {
   "cell_type": "markdown",
   "metadata": {},
   "source": [
    "##### Import Libraries"
   ]
  },
  {
   "cell_type": "code",
   "execution_count": 13,
   "metadata": {},
   "outputs": [],
   "source": [
    "import pandas as pd\n",
    "import matplotlib.pyplot as plt\n",
    "import numpy as np\n",
    "import plotly.express as px"
   ]
  },
  {
   "cell_type": "markdown",
   "metadata": {},
   "source": [
    "##### Load dataframe from 2_data_Pre_Processing output (data/CLEANED_2022_SAIPE_DATA.xlsx)"
   ]
  },
  {
   "cell_type": "code",
   "execution_count": 3,
   "metadata": {},
   "outputs": [],
   "source": [
    "clean_data_filepath = f'/Users/dillon/Desktop/portfolio/census_Poverty/data/CLEANED_2022_SAIPE_DATA.xlsx'\n",
    "df = pd.read_excel(clean_data_filepath)"
   ]
  },
  {
   "cell_type": "markdown",
   "metadata": {},
   "source": [
    "##### Check data"
   ]
  },
  {
   "cell_type": "code",
   "execution_count": 4,
   "metadata": {},
   "outputs": [
    {
     "data": {
      "text/html": [
       "<div>\n",
       "<style scoped>\n",
       "    .dataframe tbody tr th:only-of-type {\n",
       "        vertical-align: middle;\n",
       "    }\n",
       "\n",
       "    .dataframe tbody tr th {\n",
       "        vertical-align: top;\n",
       "    }\n",
       "\n",
       "    .dataframe thead th {\n",
       "        text-align: right;\n",
       "    }\n",
       "</style>\n",
       "<table border=\"1\" class=\"dataframe\">\n",
       "  <thead>\n",
       "    <tr style=\"text-align: right;\">\n",
       "      <th></th>\n",
       "      <th>STATE_FIPS_ID</th>\n",
       "      <th>POSTAL_CODE</th>\n",
       "      <th>REGION_NAME</th>\n",
       "      <th>ALL_AGES_POVERTY_ESTIMATE</th>\n",
       "      <th>ALL_AGES_90_CI_LOWER_BOUND</th>\n",
       "      <th>ALL_AGES_90_CI_UPPER_BOUND</th>\n",
       "      <th>ALL_AGES_POVERTY_PERCENT</th>\n",
       "      <th>ALL_AGES_90_CI_LOWER_PERCENT</th>\n",
       "      <th>ALL_AGES_90_CI_UPPER_PERCENT</th>\n",
       "      <th>0_17_POVERTY_ESTIMATE</th>\n",
       "      <th>...</th>\n",
       "      <th>5_17_90_CI_UPPER_PERCENT</th>\n",
       "      <th>MEDIAN_HOUSEHOLD_INCOME</th>\n",
       "      <th>MEDIAN_HOUSEHOLD_INCOME_90_CI_LOWER_BOUND</th>\n",
       "      <th>MEDIAN_HOUSEHOLD_INCOME_90_CI_UPPER_BOUND</th>\n",
       "      <th>0_4_POVERTY_ESTIMATE</th>\n",
       "      <th>0_4_90_CI_LOWER_BOUND</th>\n",
       "      <th>0_4_90_CI_UPPER_BOUND</th>\n",
       "      <th>0_4_POVERTY_PERCENT</th>\n",
       "      <th>0_4_CI_LOWER_PERCENT</th>\n",
       "      <th>0_4_UPPER_PERCENT</th>\n",
       "    </tr>\n",
       "  </thead>\n",
       "  <tbody>\n",
       "    <tr>\n",
       "      <th>0</th>\n",
       "      <td>0</td>\n",
       "      <td>US</td>\n",
       "      <td>United States</td>\n",
       "      <td>40951625</td>\n",
       "      <td>40691315</td>\n",
       "      <td>41211935</td>\n",
       "      <td>12.6</td>\n",
       "      <td>12.5</td>\n",
       "      <td>12.7</td>\n",
       "      <td>11582950</td>\n",
       "      <td>...</td>\n",
       "      <td>15.7</td>\n",
       "      <td>74755</td>\n",
       "      <td>74607</td>\n",
       "      <td>74903</td>\n",
       "      <td>3141107</td>\n",
       "      <td>3093587</td>\n",
       "      <td>3188627</td>\n",
       "      <td>17.4</td>\n",
       "      <td>17.1</td>\n",
       "      <td>17.7</td>\n",
       "    </tr>\n",
       "    <tr>\n",
       "      <th>1</th>\n",
       "      <td>1</td>\n",
       "      <td>AL</td>\n",
       "      <td>Alabama</td>\n",
       "      <td>798469</td>\n",
       "      <td>780933</td>\n",
       "      <td>816005</td>\n",
       "      <td>16.2</td>\n",
       "      <td>15.8</td>\n",
       "      <td>16.6</td>\n",
       "      <td>237861</td>\n",
       "      <td>...</td>\n",
       "      <td>21.6</td>\n",
       "      <td>59703</td>\n",
       "      <td>58986</td>\n",
       "      <td>60420</td>\n",
       "      <td>68982</td>\n",
       "      <td>64247</td>\n",
       "      <td>73717</td>\n",
       "      <td>24.4</td>\n",
       "      <td>22.7</td>\n",
       "      <td>26.1</td>\n",
       "    </tr>\n",
       "    <tr>\n",
       "      <th>2</th>\n",
       "      <td>2</td>\n",
       "      <td>AK</td>\n",
       "      <td>Alaska</td>\n",
       "      <td>77305</td>\n",
       "      <td>73349</td>\n",
       "      <td>81261</td>\n",
       "      <td>10.8</td>\n",
       "      <td>10.2</td>\n",
       "      <td>11.4</td>\n",
       "      <td>23113</td>\n",
       "      <td>...</td>\n",
       "      <td>13.3</td>\n",
       "      <td>88072</td>\n",
       "      <td>85702</td>\n",
       "      <td>90442</td>\n",
       "      <td>7304</td>\n",
       "      <td>6283</td>\n",
       "      <td>8325</td>\n",
       "      <td>16.1</td>\n",
       "      <td>13.8</td>\n",
       "      <td>18.4</td>\n",
       "    </tr>\n",
       "    <tr>\n",
       "      <th>3</th>\n",
       "      <td>4</td>\n",
       "      <td>AZ</td>\n",
       "      <td>Arizona</td>\n",
       "      <td>904567</td>\n",
       "      <td>882773</td>\n",
       "      <td>926361</td>\n",
       "      <td>12.5</td>\n",
       "      <td>12.2</td>\n",
       "      <td>12.8</td>\n",
       "      <td>250329</td>\n",
       "      <td>...</td>\n",
       "      <td>15.7</td>\n",
       "      <td>74355</td>\n",
       "      <td>73441</td>\n",
       "      <td>75269</td>\n",
       "      <td>69229</td>\n",
       "      <td>63677</td>\n",
       "      <td>74781</td>\n",
       "      <td>18.0</td>\n",
       "      <td>16.6</td>\n",
       "      <td>19.4</td>\n",
       "    </tr>\n",
       "    <tr>\n",
       "      <th>4</th>\n",
       "      <td>5</td>\n",
       "      <td>AR</td>\n",
       "      <td>Arkansas</td>\n",
       "      <td>481650</td>\n",
       "      <td>467218</td>\n",
       "      <td>496082</td>\n",
       "      <td>16.3</td>\n",
       "      <td>15.8</td>\n",
       "      <td>16.8</td>\n",
       "      <td>144789</td>\n",
       "      <td>...</td>\n",
       "      <td>20.8</td>\n",
       "      <td>55505</td>\n",
       "      <td>54535</td>\n",
       "      <td>56475</td>\n",
       "      <td>42721</td>\n",
       "      <td>39225</td>\n",
       "      <td>46217</td>\n",
       "      <td>24.7</td>\n",
       "      <td>22.7</td>\n",
       "      <td>26.7</td>\n",
       "    </tr>\n",
       "  </tbody>\n",
       "</table>\n",
       "<p>5 rows × 30 columns</p>\n",
       "</div>"
      ],
      "text/plain": [
       "   STATE_FIPS_ID POSTAL_CODE    REGION_NAME  ALL_AGES_POVERTY_ESTIMATE  \\\n",
       "0              0          US  United States                   40951625   \n",
       "1              1          AL        Alabama                     798469   \n",
       "2              2          AK         Alaska                      77305   \n",
       "3              4          AZ        Arizona                     904567   \n",
       "4              5          AR       Arkansas                     481650   \n",
       "\n",
       "   ALL_AGES_90_CI_LOWER_BOUND  ALL_AGES_90_CI_UPPER_BOUND  \\\n",
       "0                    40691315                    41211935   \n",
       "1                      780933                      816005   \n",
       "2                       73349                       81261   \n",
       "3                      882773                      926361   \n",
       "4                      467218                      496082   \n",
       "\n",
       "   ALL_AGES_POVERTY_PERCENT  ALL_AGES_90_CI_LOWER_PERCENT  \\\n",
       "0                      12.6                          12.5   \n",
       "1                      16.2                          15.8   \n",
       "2                      10.8                          10.2   \n",
       "3                      12.5                          12.2   \n",
       "4                      16.3                          15.8   \n",
       "\n",
       "   ALL_AGES_90_CI_UPPER_PERCENT  0_17_POVERTY_ESTIMATE  ...  \\\n",
       "0                          12.7               11582950  ...   \n",
       "1                          16.6                 237861  ...   \n",
       "2                          11.4                  23113  ...   \n",
       "3                          12.8                 250329  ...   \n",
       "4                          16.8                 144789  ...   \n",
       "\n",
       "   5_17_90_CI_UPPER_PERCENT  MEDIAN_HOUSEHOLD_INCOME  \\\n",
       "0                      15.7                    74755   \n",
       "1                      21.6                    59703   \n",
       "2                      13.3                    88072   \n",
       "3                      15.7                    74355   \n",
       "4                      20.8                    55505   \n",
       "\n",
       "   MEDIAN_HOUSEHOLD_INCOME_90_CI_LOWER_BOUND  \\\n",
       "0                                      74607   \n",
       "1                                      58986   \n",
       "2                                      85702   \n",
       "3                                      73441   \n",
       "4                                      54535   \n",
       "\n",
       "   MEDIAN_HOUSEHOLD_INCOME_90_CI_UPPER_BOUND  0_4_POVERTY_ESTIMATE  \\\n",
       "0                                      74903               3141107   \n",
       "1                                      60420                 68982   \n",
       "2                                      90442                  7304   \n",
       "3                                      75269                 69229   \n",
       "4                                      56475                 42721   \n",
       "\n",
       "   0_4_90_CI_LOWER_BOUND  0_4_90_CI_UPPER_BOUND  0_4_POVERTY_PERCENT  \\\n",
       "0                3093587                3188627                 17.4   \n",
       "1                  64247                  73717                 24.4   \n",
       "2                   6283                   8325                 16.1   \n",
       "3                  63677                  74781                 18.0   \n",
       "4                  39225                  46217                 24.7   \n",
       "\n",
       "   0_4_CI_LOWER_PERCENT  0_4_UPPER_PERCENT  \n",
       "0                  17.1               17.7  \n",
       "1                  22.7               26.1  \n",
       "2                  13.8               18.4  \n",
       "3                  16.6               19.4  \n",
       "4                  22.7               26.7  \n",
       "\n",
       "[5 rows x 30 columns]"
      ]
     },
     "execution_count": 4,
     "metadata": {},
     "output_type": "execute_result"
    }
   ],
   "source": [
    "df.head()"
   ]
  },
  {
   "cell_type": "markdown",
   "metadata": {},
   "source": [
    "----\n",
    "##### ***1*** - National level data EDA\n",
    "***Filter dataframe instance to only national level (where POSTAL_CODE = 'US')***"
   ]
  },
  {
   "cell_type": "code",
   "execution_count": 5,
   "metadata": {},
   "outputs": [],
   "source": [
    "df_national = df[df['POSTAL_CODE'] == 'US']"
   ]
  },
  {
   "cell_type": "code",
   "execution_count": 6,
   "metadata": {},
   "outputs": [
    {
     "data": {
      "text/html": [
       "<div>\n",
       "<style scoped>\n",
       "    .dataframe tbody tr th:only-of-type {\n",
       "        vertical-align: middle;\n",
       "    }\n",
       "\n",
       "    .dataframe tbody tr th {\n",
       "        vertical-align: top;\n",
       "    }\n",
       "\n",
       "    .dataframe thead th {\n",
       "        text-align: right;\n",
       "    }\n",
       "</style>\n",
       "<table border=\"1\" class=\"dataframe\">\n",
       "  <thead>\n",
       "    <tr style=\"text-align: right;\">\n",
       "      <th></th>\n",
       "      <th>STATE_FIPS_ID</th>\n",
       "      <th>POSTAL_CODE</th>\n",
       "      <th>REGION_NAME</th>\n",
       "      <th>ALL_AGES_POVERTY_ESTIMATE</th>\n",
       "      <th>ALL_AGES_90_CI_LOWER_BOUND</th>\n",
       "      <th>ALL_AGES_90_CI_UPPER_BOUND</th>\n",
       "      <th>ALL_AGES_POVERTY_PERCENT</th>\n",
       "      <th>ALL_AGES_90_CI_LOWER_PERCENT</th>\n",
       "      <th>ALL_AGES_90_CI_UPPER_PERCENT</th>\n",
       "      <th>0_17_POVERTY_ESTIMATE</th>\n",
       "      <th>...</th>\n",
       "      <th>5_17_90_CI_UPPER_PERCENT</th>\n",
       "      <th>MEDIAN_HOUSEHOLD_INCOME</th>\n",
       "      <th>MEDIAN_HOUSEHOLD_INCOME_90_CI_LOWER_BOUND</th>\n",
       "      <th>MEDIAN_HOUSEHOLD_INCOME_90_CI_UPPER_BOUND</th>\n",
       "      <th>0_4_POVERTY_ESTIMATE</th>\n",
       "      <th>0_4_90_CI_LOWER_BOUND</th>\n",
       "      <th>0_4_90_CI_UPPER_BOUND</th>\n",
       "      <th>0_4_POVERTY_PERCENT</th>\n",
       "      <th>0_4_CI_LOWER_PERCENT</th>\n",
       "      <th>0_4_UPPER_PERCENT</th>\n",
       "    </tr>\n",
       "  </thead>\n",
       "  <tbody>\n",
       "    <tr>\n",
       "      <th>0</th>\n",
       "      <td>0</td>\n",
       "      <td>US</td>\n",
       "      <td>United States</td>\n",
       "      <td>40951625</td>\n",
       "      <td>40691315</td>\n",
       "      <td>41211935</td>\n",
       "      <td>12.6</td>\n",
       "      <td>12.5</td>\n",
       "      <td>12.7</td>\n",
       "      <td>11582950</td>\n",
       "      <td>...</td>\n",
       "      <td>15.7</td>\n",
       "      <td>74755</td>\n",
       "      <td>74607</td>\n",
       "      <td>74903</td>\n",
       "      <td>3141107</td>\n",
       "      <td>3093587</td>\n",
       "      <td>3188627</td>\n",
       "      <td>17.4</td>\n",
       "      <td>17.1</td>\n",
       "      <td>17.7</td>\n",
       "    </tr>\n",
       "  </tbody>\n",
       "</table>\n",
       "<p>1 rows × 30 columns</p>\n",
       "</div>"
      ],
      "text/plain": [
       "   STATE_FIPS_ID POSTAL_CODE    REGION_NAME  ALL_AGES_POVERTY_ESTIMATE  \\\n",
       "0              0          US  United States                   40951625   \n",
       "\n",
       "   ALL_AGES_90_CI_LOWER_BOUND  ALL_AGES_90_CI_UPPER_BOUND  \\\n",
       "0                    40691315                    41211935   \n",
       "\n",
       "   ALL_AGES_POVERTY_PERCENT  ALL_AGES_90_CI_LOWER_PERCENT  \\\n",
       "0                      12.6                          12.5   \n",
       "\n",
       "   ALL_AGES_90_CI_UPPER_PERCENT  0_17_POVERTY_ESTIMATE  ...  \\\n",
       "0                          12.7               11582950  ...   \n",
       "\n",
       "   5_17_90_CI_UPPER_PERCENT  MEDIAN_HOUSEHOLD_INCOME  \\\n",
       "0                      15.7                    74755   \n",
       "\n",
       "   MEDIAN_HOUSEHOLD_INCOME_90_CI_LOWER_BOUND  \\\n",
       "0                                      74607   \n",
       "\n",
       "   MEDIAN_HOUSEHOLD_INCOME_90_CI_UPPER_BOUND  0_4_POVERTY_ESTIMATE  \\\n",
       "0                                      74903               3141107   \n",
       "\n",
       "   0_4_90_CI_LOWER_BOUND  0_4_90_CI_UPPER_BOUND  0_4_POVERTY_PERCENT  \\\n",
       "0                3093587                3188627                 17.4   \n",
       "\n",
       "   0_4_CI_LOWER_PERCENT  0_4_UPPER_PERCENT  \n",
       "0                  17.1               17.7  \n",
       "\n",
       "[1 rows x 30 columns]"
      ]
     },
     "execution_count": 6,
     "metadata": {},
     "output_type": "execute_result"
    }
   ],
   "source": [
    "df_national.head()"
   ]
  },
  {
   "cell_type": "markdown",
   "metadata": {},
   "source": [
    "***Display information of interest***"
   ]
  },
  {
   "cell_type": "code",
   "execution_count": 7,
   "metadata": {},
   "outputs": [
    {
     "name": "stdout",
     "output_type": "stream",
     "text": [
      "Location: United States\n",
      "-----\n",
      "Poverty Estimate for ALL Ages (int): 40951625\n",
      "Poverty Estimate for ALL Ages (percent): 12.6%\n",
      "-----\n",
      "Poverty Estimate for Ages 0-17 (int): 11582950\n",
      "Poverty Estimate for Ages 0-17 (percent): 16.3%\n",
      "-----\n",
      "Median Household Income: $74755\n"
     ]
    }
   ],
   "source": [
    "print('Location: ' + df_national['REGION_NAME'].values[0]\n",
    "      + '\\n-----\\nPoverty Estimate for ALL Ages (int): ' + str(df_national['ALL_AGES_POVERTY_ESTIMATE'].values[0])\n",
    "      + '\\nPoverty Estimate for ALL Ages (percent): ' + str(df_national['ALL_AGES_POVERTY_PERCENT'].values[0]) + '%'\n",
    "      + '\\n-----\\nPoverty Estimate for Ages 0-17 (int): ' + str(df_national['0_17_POVERTY_ESTIMATE'].values[0])\n",
    "      + '\\nPoverty Estimate for Ages 0-17 (percent): ' + str(df_national['0_17_POVERTY_PERCENT'].values[0]) + '%'\n",
    "      + '\\n-----\\nMedian Household Income: $' + str(df_national['MEDIAN_HOUSEHOLD_INCOME'].values[0])\n",
    "      )"
   ]
  },
  {
   "cell_type": "markdown",
   "metadata": {},
   "source": [
    "***Create bar chart of poverty rates (national)***"
   ]
  },
  {
   "cell_type": "code",
   "execution_count": 8,
   "metadata": {},
   "outputs": [
    {
     "data": {
      "image/png": "[encoded data removed]",
      "text/plain": [
       "<Figure size 800x600 with 1 Axes>"
      ]
     },
     "metadata": {},
     "output_type": "display_data"
    }
   ],
   "source": [
    "# Data\n",
    "categories = ['All Ages', 'Ages 0-17']\n",
    "all_ages_percentage = df_national['ALL_AGES_POVERTY_PERCENT'].values[0]\n",
    "ages_0_17_percentage = df_national['0_17_POVERTY_PERCENT'].values[0]\n",
    "\n",
    "poverty_percentages = [all_ages_percentage, ages_0_17_percentage]\n",
    "\n",
    "# Create a bar chart\n",
    "plt.figure(figsize=(8, 6))\n",
    "plt.bar(categories, poverty_percentages, color=['blue', 'red', 'green'])\n",
    "plt.xlabel('Age Categories')\n",
    "plt.ylabel('Poverty Rate (%)')\n",
    "plt.title('Poverty Rates in the United States')\n",
    "plt.ylim(0, 20)  # Set the y-axis limit to ensure all bars are visible\n",
    "\n",
    "# Add data labels above the bars\n",
    "for i, percentage in enumerate(poverty_percentages):\n",
    "    plt.text(i, percentage + 1, f\"{percentage:.1f}%\", ha='center', va='bottom', fontsize=12)\n",
    "\n",
    "# Show the plot\n",
    "plt.show()"
   ]
  },
  {
   "cell_type": "markdown",
   "metadata": {},
   "source": [
    "Based on the above National data we can find a few interesting discussions.\n",
    "1. In the United States, we see a national poverty level of 12.6% in 2022 (40,951,625 individuals). One important note is that this figure accounts for ALL ages - both adults and children.\n",
    "2. The child poverty rate is significantly higher than the overall poverty rate at 16.3% in 2022 (or 11,582,950 individuals ages 0 to 17).\n",
    "\n",
    "Overall, these statistics suggest that there is a portion of the population, particularly children, who are experiencing poverty in the United States. While the overall poverty rate is below 13%, the child poverty rate is notably higher, indicating that child poverty remains a concern. Additionally, the median household income provides a snapshot of the economic conditions for the typical American household, which can be used for various policy and economic assessments."
   ]
  },
  {
   "cell_type": "markdown",
   "metadata": {},
   "source": [
    "-----\n",
    "##### ***2*** - State-level EDA\n",
    "***Filter dataframe instance to only state level (where POSTAL_CODE != 'US')***"
   ]
  },
  {
   "cell_type": "code",
   "execution_count": 10,
   "metadata": {},
   "outputs": [],
   "source": [
    "df_state = df[df['POSTAL_CODE'] != 'US']"
   ]
  },
  {
   "cell_type": "code",
   "execution_count": 18,
   "metadata": {},
   "outputs": [
    {
     "name": "stdout",
     "output_type": "stream",
     "text": [
      "<class 'pandas.core.frame.DataFrame'>\n",
      "Index: 51 entries, 1 to 51\n",
      "Data columns (total 30 columns):\n",
      " #   Column                                     Non-Null Count  Dtype  \n",
      "---  ------                                     --------------  -----  \n",
      " 0   STATE_FIPS_ID                              51 non-null     int64  \n",
      " 1   POSTAL_CODE                                51 non-null     object \n",
      " 2   REGION_NAME                                51 non-null     object \n",
      " 3   ALL_AGES_POVERTY_ESTIMATE                  51 non-null     int64  \n",
      " 4   ALL_AGES_90_CI_LOWER_BOUND                 51 non-null     int64  \n",
      " 5   ALL_AGES_90_CI_UPPER_BOUND                 51 non-null     int64  \n",
      " 6   ALL_AGES_POVERTY_PERCENT                   51 non-null     float64\n",
      " 7   ALL_AGES_90_CI_LOWER_PERCENT               51 non-null     float64\n",
      " 8   ALL_AGES_90_CI_UPPER_PERCENT               51 non-null     float64\n",
      " 9   0_17_POVERTY_ESTIMATE                      51 non-null     int64  \n",
      " 10  0_17_90_CI_LOWER_BOUND                     51 non-null     int64  \n",
      " 11  0_17_90_CI_UPPER_BOUND                     51 non-null     int64  \n",
      " 12  0_17_POVERTY_PERCENT                       51 non-null     float64\n",
      " 13  0_17_90_CI_LOWER_PERCENT                   51 non-null     float64\n",
      " 14  0_17_90_CI_UPPER_PERCENT                   51 non-null     float64\n",
      " 15  5_17_POVERTY_ESTIMATE                      51 non-null     int64  \n",
      " 16  5_17_90_CI_LOWER_BOUND                     51 non-null     int64  \n",
      " 17  5_17_90_CI_UPPER_BOUND                     51 non-null     int64  \n",
      " 18  5_17_POVERTY_PERCENT                       51 non-null     float64\n",
      " 19  5_17_90_CI_LOWER_PERCENT                   51 non-null     float64\n",
      " 20  5_17_90_CI_UPPER_PERCENT                   51 non-null     float64\n",
      " 21  MEDIAN_HOUSEHOLD_INCOME                    51 non-null     int64  \n",
      " 22  MEDIAN_HOUSEHOLD_INCOME_90_CI_LOWER_BOUND  51 non-null     int64  \n",
      " 23  MEDIAN_HOUSEHOLD_INCOME_90_CI_UPPER_BOUND  51 non-null     int64  \n",
      " 24  0_4_POVERTY_ESTIMATE                       51 non-null     int64  \n",
      " 25  0_4_90_CI_LOWER_BOUND                      51 non-null     int64  \n",
      " 26  0_4_90_CI_UPPER_BOUND                      51 non-null     int64  \n",
      " 27  0_4_POVERTY_PERCENT                        51 non-null     float64\n",
      " 28  0_4_CI_LOWER_PERCENT                       51 non-null     float64\n",
      " 29  0_4_UPPER_PERCENT                          51 non-null     float64\n",
      "dtypes: float64(12), int64(16), object(2)\n",
      "memory usage: 12.4+ KB\n"
     ]
    }
   ],
   "source": [
    "df_state.info()"
   ]
  },
  {
   "cell_type": "code",
   "execution_count": 19,
   "metadata": {},
   "outputs": [
    {
     "data": {
      "text/html": [
       "<div>\n",
       "<style scoped>\n",
       "    .dataframe tbody tr th:only-of-type {\n",
       "        vertical-align: middle;\n",
       "    }\n",
       "\n",
       "    .dataframe tbody tr th {\n",
       "        vertical-align: top;\n",
       "    }\n",
       "\n",
       "    .dataframe thead th {\n",
       "        text-align: right;\n",
       "    }\n",
       "</style>\n",
       "<table border=\"1\" class=\"dataframe\">\n",
       "  <thead>\n",
       "    <tr style=\"text-align: right;\">\n",
       "      <th></th>\n",
       "      <th>STATE_FIPS_ID</th>\n",
       "      <th>ALL_AGES_POVERTY_ESTIMATE</th>\n",
       "      <th>ALL_AGES_90_CI_LOWER_BOUND</th>\n",
       "      <th>ALL_AGES_90_CI_UPPER_BOUND</th>\n",
       "      <th>ALL_AGES_POVERTY_PERCENT</th>\n",
       "      <th>ALL_AGES_90_CI_LOWER_PERCENT</th>\n",
       "      <th>ALL_AGES_90_CI_UPPER_PERCENT</th>\n",
       "      <th>0_17_POVERTY_ESTIMATE</th>\n",
       "      <th>0_17_90_CI_LOWER_BOUND</th>\n",
       "      <th>0_17_90_CI_UPPER_BOUND</th>\n",
       "      <th>...</th>\n",
       "      <th>5_17_90_CI_UPPER_PERCENT</th>\n",
       "      <th>MEDIAN_HOUSEHOLD_INCOME</th>\n",
       "      <th>MEDIAN_HOUSEHOLD_INCOME_90_CI_LOWER_BOUND</th>\n",
       "      <th>MEDIAN_HOUSEHOLD_INCOME_90_CI_UPPER_BOUND</th>\n",
       "      <th>0_4_POVERTY_ESTIMATE</th>\n",
       "      <th>0_4_90_CI_LOWER_BOUND</th>\n",
       "      <th>0_4_90_CI_UPPER_BOUND</th>\n",
       "      <th>0_4_POVERTY_PERCENT</th>\n",
       "      <th>0_4_CI_LOWER_PERCENT</th>\n",
       "      <th>0_4_UPPER_PERCENT</th>\n",
       "    </tr>\n",
       "  </thead>\n",
       "  <tbody>\n",
       "    <tr>\n",
       "      <th>count</th>\n",
       "      <td>51.000000</td>\n",
       "      <td>5.100000e+01</td>\n",
       "      <td>5.100000e+01</td>\n",
       "      <td>5.100000e+01</td>\n",
       "      <td>51.000000</td>\n",
       "      <td>51.000000</td>\n",
       "      <td>51.000000</td>\n",
       "      <td>5.100000e+01</td>\n",
       "      <td>5.100000e+01</td>\n",
       "      <td>5.100000e+01</td>\n",
       "      <td>...</td>\n",
       "      <td>51.000000</td>\n",
       "      <td>51.000000</td>\n",
       "      <td>51.000000</td>\n",
       "      <td>51.000000</td>\n",
       "      <td>51.000000</td>\n",
       "      <td>51.000000</td>\n",
       "      <td>51.000000</td>\n",
       "      <td>51.000000</td>\n",
       "      <td>51.000000</td>\n",
       "      <td>51.000000</td>\n",
       "    </tr>\n",
       "    <tr>\n",
       "      <th>mean</th>\n",
       "      <td>28.960784</td>\n",
       "      <td>8.029730e+05</td>\n",
       "      <td>7.864464e+05</td>\n",
       "      <td>8.194997e+05</td>\n",
       "      <td>12.360784</td>\n",
       "      <td>11.984314</td>\n",
       "      <td>12.737255</td>\n",
       "      <td>2.271167e+05</td>\n",
       "      <td>2.179339e+05</td>\n",
       "      <td>2.362995e+05</td>\n",
       "      <td>...</td>\n",
       "      <td>15.874510</td>\n",
       "      <td>74491.627451</td>\n",
       "      <td>73351.647059</td>\n",
       "      <td>75631.607843</td>\n",
       "      <td>61590.313725</td>\n",
       "      <td>57504.627451</td>\n",
       "      <td>65676.000000</td>\n",
       "      <td>16.750980</td>\n",
       "      <td>15.211765</td>\n",
       "      <td>18.290196</td>\n",
       "    </tr>\n",
       "    <tr>\n",
       "      <th>std</th>\n",
       "      <td>15.832828</td>\n",
       "      <td>9.440422e+05</td>\n",
       "      <td>9.331098e+05</td>\n",
       "      <td>9.549840e+05</td>\n",
       "      <td>2.579076</td>\n",
       "      <td>2.561513</td>\n",
       "      <td>2.607985</td>\n",
       "      <td>2.808456e+05</td>\n",
       "      <td>2.742895e+05</td>\n",
       "      <td>2.874131e+05</td>\n",
       "      <td>...</td>\n",
       "      <td>4.290774</td>\n",
       "      <td>12250.938909</td>\n",
       "      <td>12047.736742</td>\n",
       "      <td>12475.758106</td>\n",
       "      <td>75015.009716</td>\n",
       "      <td>71953.402341</td>\n",
       "      <td>78083.919448</td>\n",
       "      <td>4.348258</td>\n",
       "      <td>4.327986</td>\n",
       "      <td>4.429278</td>\n",
       "    </tr>\n",
       "    <tr>\n",
       "      <th>min</th>\n",
       "      <td>1.000000</td>\n",
       "      <td>6.355500e+04</td>\n",
       "      <td>5.938100e+04</td>\n",
       "      <td>6.736300e+04</td>\n",
       "      <td>7.400000</td>\n",
       "      <td>7.000000</td>\n",
       "      <td>7.800000</td>\n",
       "      <td>1.256900e+04</td>\n",
       "      <td>1.113800e+04</td>\n",
       "      <td>1.400000e+04</td>\n",
       "      <td>...</td>\n",
       "      <td>7.700000</td>\n",
       "      <td>52788.000000</td>\n",
       "      <td>51910.000000</td>\n",
       "      <td>53666.000000</td>\n",
       "      <td>3454.000000</td>\n",
       "      <td>2855.000000</td>\n",
       "      <td>4053.000000</td>\n",
       "      <td>9.100000</td>\n",
       "      <td>7.300000</td>\n",
       "      <td>10.900000</td>\n",
       "    </tr>\n",
       "    <tr>\n",
       "      <th>25%</th>\n",
       "      <td>16.500000</td>\n",
       "      <td>2.061495e+05</td>\n",
       "      <td>1.977525e+05</td>\n",
       "      <td>2.145465e+05</td>\n",
       "      <td>10.550000</td>\n",
       "      <td>10.150000</td>\n",
       "      <td>10.850000</td>\n",
       "      <td>5.963600e+04</td>\n",
       "      <td>5.473850e+04</td>\n",
       "      <td>6.453350e+04</td>\n",
       "      <td>...</td>\n",
       "      <td>12.900000</td>\n",
       "      <td>66847.000000</td>\n",
       "      <td>66188.000000</td>\n",
       "      <td>67506.000000</td>\n",
       "      <td>16296.500000</td>\n",
       "      <td>14315.000000</td>\n",
       "      <td>18278.000000</td>\n",
       "      <td>13.500000</td>\n",
       "      <td>11.750000</td>\n",
       "      <td>15.050000</td>\n",
       "    </tr>\n",
       "    <tr>\n",
       "      <th>50%</th>\n",
       "      <td>29.000000</td>\n",
       "      <td>5.457730e+05</td>\n",
       "      <td>5.321610e+05</td>\n",
       "      <td>5.593850e+05</td>\n",
       "      <td>11.900000</td>\n",
       "      <td>11.700000</td>\n",
       "      <td>12.300000</td>\n",
       "      <td>1.530140e+05</td>\n",
       "      <td>1.443780e+05</td>\n",
       "      <td>1.616500e+05</td>\n",
       "      <td>...</td>\n",
       "      <td>15.200000</td>\n",
       "      <td>72279.000000</td>\n",
       "      <td>71320.000000</td>\n",
       "      <td>73348.000000</td>\n",
       "      <td>42494.000000</td>\n",
       "      <td>37820.000000</td>\n",
       "      <td>46217.000000</td>\n",
       "      <td>16.000000</td>\n",
       "      <td>14.500000</td>\n",
       "      <td>17.900000</td>\n",
       "    </tr>\n",
       "    <tr>\n",
       "      <th>75%</th>\n",
       "      <td>41.500000</td>\n",
       "      <td>8.863295e+05</td>\n",
       "      <td>8.647085e+05</td>\n",
       "      <td>9.079505e+05</td>\n",
       "      <td>13.350000</td>\n",
       "      <td>13.100000</td>\n",
       "      <td>13.600000</td>\n",
       "      <td>2.501185e+05</td>\n",
       "      <td>2.378040e+05</td>\n",
       "      <td>2.624330e+05</td>\n",
       "      <td>...</td>\n",
       "      <td>17.700000</td>\n",
       "      <td>84090.500000</td>\n",
       "      <td>83345.500000</td>\n",
       "      <td>85172.500000</td>\n",
       "      <td>69660.500000</td>\n",
       "      <td>64527.500000</td>\n",
       "      <td>75078.500000</td>\n",
       "      <td>19.150000</td>\n",
       "      <td>18.100000</td>\n",
       "      <td>20.500000</td>\n",
       "    </tr>\n",
       "    <tr>\n",
       "      <th>max</th>\n",
       "      <td>56.000000</td>\n",
       "      <td>4.673718e+06</td>\n",
       "      <td>4.623575e+06</td>\n",
       "      <td>4.723861e+06</td>\n",
       "      <td>19.200000</td>\n",
       "      <td>18.700000</td>\n",
       "      <td>19.700000</td>\n",
       "      <td>1.413051e+06</td>\n",
       "      <td>1.378798e+06</td>\n",
       "      <td>1.447304e+06</td>\n",
       "      <td>...</td>\n",
       "      <td>27.500000</td>\n",
       "      <td>99897.000000</td>\n",
       "      <td>97530.000000</td>\n",
       "      <td>102264.000000</td>\n",
       "      <td>389616.000000</td>\n",
       "      <td>373089.000000</td>\n",
       "      <td>406143.000000</td>\n",
       "      <td>26.500000</td>\n",
       "      <td>24.800000</td>\n",
       "      <td>28.200000</td>\n",
       "    </tr>\n",
       "  </tbody>\n",
       "</table>\n",
       "<p>8 rows × 28 columns</p>\n",
       "</div>"
      ],
      "text/plain": [
       "       STATE_FIPS_ID  ALL_AGES_POVERTY_ESTIMATE  ALL_AGES_90_CI_LOWER_BOUND  \\\n",
       "count      51.000000               5.100000e+01                5.100000e+01   \n",
       "mean       28.960784               8.029730e+05                7.864464e+05   \n",
       "std        15.832828               9.440422e+05                9.331098e+05   \n",
       "min         1.000000               6.355500e+04                5.938100e+04   \n",
       "25%        16.500000               2.061495e+05                1.977525e+05   \n",
       "50%        29.000000               5.457730e+05                5.321610e+05   \n",
       "75%        41.500000               8.863295e+05                8.647085e+05   \n",
       "max        56.000000               4.673718e+06                4.623575e+06   \n",
       "\n",
       "       ALL_AGES_90_CI_UPPER_BOUND  ALL_AGES_POVERTY_PERCENT  \\\n",
       "count                5.100000e+01                 51.000000   \n",
       "mean                 8.194997e+05                 12.360784   \n",
       "std                  9.549840e+05                  2.579076   \n",
       "min                  6.736300e+04                  7.400000   \n",
       "25%                  2.145465e+05                 10.550000   \n",
       "50%                  5.593850e+05                 11.900000   \n",
       "75%                  9.079505e+05                 13.350000   \n",
       "max                  4.723861e+06                 19.200000   \n",
       "\n",
       "       ALL_AGES_90_CI_LOWER_PERCENT  ALL_AGES_90_CI_UPPER_PERCENT  \\\n",
       "count                     51.000000                     51.000000   \n",
       "mean                      11.984314                     12.737255   \n",
       "std                        2.561513                      2.607985   \n",
       "min                        7.000000                      7.800000   \n",
       "25%                       10.150000                     10.850000   \n",
       "50%                       11.700000                     12.300000   \n",
       "75%                       13.100000                     13.600000   \n",
       "max                       18.700000                     19.700000   \n",
       "\n",
       "       0_17_POVERTY_ESTIMATE  0_17_90_CI_LOWER_BOUND  0_17_90_CI_UPPER_BOUND  \\\n",
       "count           5.100000e+01            5.100000e+01            5.100000e+01   \n",
       "mean            2.271167e+05            2.179339e+05            2.362995e+05   \n",
       "std             2.808456e+05            2.742895e+05            2.874131e+05   \n",
       "min             1.256900e+04            1.113800e+04            1.400000e+04   \n",
       "25%             5.963600e+04            5.473850e+04            6.453350e+04   \n",
       "50%             1.530140e+05            1.443780e+05            1.616500e+05   \n",
       "75%             2.501185e+05            2.378040e+05            2.624330e+05   \n",
       "max             1.413051e+06            1.378798e+06            1.447304e+06   \n",
       "\n",
       "       ...  5_17_90_CI_UPPER_PERCENT  MEDIAN_HOUSEHOLD_INCOME  \\\n",
       "count  ...                 51.000000                51.000000   \n",
       "mean   ...                 15.874510             74491.627451   \n",
       "std    ...                  4.290774             12250.938909   \n",
       "min    ...                  7.700000             52788.000000   \n",
       "25%    ...                 12.900000             66847.000000   \n",
       "50%    ...                 15.200000             72279.000000   \n",
       "75%    ...                 17.700000             84090.500000   \n",
       "max    ...                 27.500000             99897.000000   \n",
       "\n",
       "       MEDIAN_HOUSEHOLD_INCOME_90_CI_LOWER_BOUND  \\\n",
       "count                                  51.000000   \n",
       "mean                                73351.647059   \n",
       "std                                 12047.736742   \n",
       "min                                 51910.000000   \n",
       "25%                                 66188.000000   \n",
       "50%                                 71320.000000   \n",
       "75%                                 83345.500000   \n",
       "max                                 97530.000000   \n",
       "\n",
       "       MEDIAN_HOUSEHOLD_INCOME_90_CI_UPPER_BOUND  0_4_POVERTY_ESTIMATE  \\\n",
       "count                                  51.000000             51.000000   \n",
       "mean                                75631.607843          61590.313725   \n",
       "std                                 12475.758106          75015.009716   \n",
       "min                                 53666.000000           3454.000000   \n",
       "25%                                 67506.000000          16296.500000   \n",
       "50%                                 73348.000000          42494.000000   \n",
       "75%                                 85172.500000          69660.500000   \n",
       "max                                102264.000000         389616.000000   \n",
       "\n",
       "       0_4_90_CI_LOWER_BOUND  0_4_90_CI_UPPER_BOUND  0_4_POVERTY_PERCENT  \\\n",
       "count              51.000000              51.000000            51.000000   \n",
       "mean            57504.627451           65676.000000            16.750980   \n",
       "std             71953.402341           78083.919448             4.348258   \n",
       "min              2855.000000            4053.000000             9.100000   \n",
       "25%             14315.000000           18278.000000            13.500000   \n",
       "50%             37820.000000           46217.000000            16.000000   \n",
       "75%             64527.500000           75078.500000            19.150000   \n",
       "max            373089.000000          406143.000000            26.500000   \n",
       "\n",
       "       0_4_CI_LOWER_PERCENT  0_4_UPPER_PERCENT  \n",
       "count             51.000000          51.000000  \n",
       "mean              15.211765          18.290196  \n",
       "std                4.327986           4.429278  \n",
       "min                7.300000          10.900000  \n",
       "25%               11.750000          15.050000  \n",
       "50%               14.500000          17.900000  \n",
       "75%               18.100000          20.500000  \n",
       "max               24.800000          28.200000  \n",
       "\n",
       "[8 rows x 28 columns]"
      ]
     },
     "execution_count": 19,
     "metadata": {},
     "output_type": "execute_result"
    }
   ],
   "source": [
    "df_state.describe()"
   ]
  },
  {
   "cell_type": "markdown",
   "metadata": {},
   "source": [
    "- **Count**: There are 51 data points, which include the 50 states plus the District of Columbia.\n",
    "- **Mean**: The average poverty percentage across these regions is approximately 12.36%.\n",
    "- **Standard Deviation**: The standard deviation is about 2.58%, indicating that there is some variation in poverty rates between the states, but it's not extremely wide.\n",
    "- **Minimum**: The lowest recorded poverty percentage among the states is 7.4%.\n",
    "- **25th Percentile**: About a quarter of the states have a poverty percentage at or below 10.55%.\n",
    "- **Median**: The median poverty percentage, which reduces the effect of outliers, is 11.9%. This is slightly lower than the mean, suggesting a skew towards higher poverty rates in fewer states.\n",
    "- **75th Percentile**: About three-quarters of the states have a poverty percentage at or below 13.35%.\n",
    "- **Maximum**: The highest poverty percentage in any state is 19.2%.\n",
    "From these statistics, we can infer that while the majority of states have poverty rates close to the national average, there are some states with significantly higher poverty percentages, which increase the mean above the median. The state with the highest poverty rate (19.2%) is an outlier, considerably higher than the 75th percentile of 13.35%."
   ]
  },
  {
   "cell_type": "markdown",
   "metadata": {},
   "source": [
    "***Create filled map of Poverty Percentages (ALL Ages) by State***"
   ]
  },
  {
   "cell_type": "code",
   "execution_count": 37,
   "metadata": {},
   "outputs": [
    {
     "data": {
      "application/vnd.plotly.v1+json": {
       "config": {
        "plotlyServerURL": "https://plot.ly"
       },
       "data": [
        {
         "coloraxis": "coloraxis",
         "geo": "geo",
         "hovertemplate": "POSTAL_CODE=%{location}<br>ALL_AGES_POVERTY_PERCENT=%{z}<extra></extra>",
         "locationmode": "USA-states",
         "locations": [
          "AL",
          "AK",
          "AZ",
          "AR",
          "CA",
          "CO",
          "CT",
          "DE",
          "DC",
          "FL",
          "GA",
          "HI",
          "ID",
          "IL",
          "IN",
          "IA",
          "KS",
          "KY",
          "LA",
          "ME",
          "MD",
          "MA",
          "MI",
          "MN",
          "MS",
          "MO",
          "MT",
          "NE",
          "NV",
          "NH",
          "NJ",
          "NM",
          "NY",
          "NC",
          "ND",
          "OH",
          "OK",
          "OR",
          "PA",
          "RI",
          "SC",
          "SD",
          "TN",
          "TX",
          "UT",
          "VT",
          "VA",
          "WA",
          "WV",
          "WI",
          "WY"
         ],
         "name": "",
         "type": "choropleth",
         "z": [
          16.2,
          10.8,
          12.5,
          16.3,
          12.2,
          9.5,
          9.8,
          10,
          14.2,
          12.7,
          12.9,
          10,
          10.5,
          11.9,
          12.5,
          11,
          11.9,
          16.3,
          18.6,
          10.9,
          9.8,
          10.4,
          13.3,
          9.6,
          19.2,
          13.1,
          11.8,
          11.1,
          12.6,
          7.4,
          9.7,
          17.3,
          14.2,
          12.8,
          11.2,
          13.4,
          15.6,
          12,
          11.8,
          11.2,
          14,
          12.4,
          13.3,
          14,
          8.3,
          10.2,
          10.6,
          10,
          17.4,
          10.8,
          11.2
         ]
        }
       ],
       "layout": {
        "coloraxis": {
         "colorbar": {
          "title": {
           "text": "ALL_AGES_POVERTY_PERCENT"
          }
         },
         "colorscale": [
          [
           0,
           "rgb(255,245,240)"
          ],
          [
           0.125,
           "rgb(254,224,210)"
          ],
          [
           0.25,
           "rgb(252,187,161)"
          ],
          [
           0.375,
           "rgb(252,146,114)"
          ],
          [
           0.5,
           "rgb(251,106,74)"
          ],
          [
           0.625,
           "rgb(239,59,44)"
          ],
          [
           0.75,
           "rgb(203,24,29)"
          ],
          [
           0.875,
           "rgb(165,15,21)"
          ],
          [
           1,
           "rgb(103,0,13)"
          ]
         ]
        },
        "geo": {
         "center": {},
         "domain": {
          "x": [
           0,
           1
          ],
          "y": [
           0,
           1
          ]
         },
         "scope": "usa"
        },
        "legend": {
         "tracegroupgap": 0
        },
        "template": {
         "data": {
          "bar": [
           {
            "error_x": {
             "color": "#2a3f5f"
            },
            "error_y": {
             "color": "#2a3f5f"
            },
            "marker": {
             "line": {
              "color": "#E5ECF6",
              "width": 0.5
             },
             "pattern": {
              "fillmode": "overlay",
              "size": 10,
              "solidity": 0.2
             }
            },
            "type": "bar"
           }
          ],
          "barpolar": [
           {
            "marker": {
             "line": {
              "color": "#E5ECF6",
              "width": 0.5
             },
             "pattern": {
              "fillmode": "overlay",
              "size": 10,
              "solidity": 0.2
             }
            },
            "type": "barpolar"
           }
          ],
          "carpet": [
           {
            "aaxis": {
             "endlinecolor": "#2a3f5f",
             "gridcolor": "white",
             "linecolor": "white",
             "minorgridcolor": "white",
             "startlinecolor": "#2a3f5f"
            },
            "baxis": {
             "endlinecolor": "#2a3f5f",
             "gridcolor": "white",
             "linecolor": "white",
             "minorgridcolor": "white",
             "startlinecolor": "#2a3f5f"
            },
            "type": "carpet"
           }
          ],
          "choropleth": [
           {
            "colorbar": {
             "outlinewidth": 0,
             "ticks": ""
            },
            "type": "choropleth"
           }
          ],
          "contour": [
           {
            "colorbar": {
             "outlinewidth": 0,
             "ticks": ""
            },
            "colorscale": [
             [
              0,
              "#0d0887"
             ],
             [
              0.1111111111111111,
              "#46039f"
             ],
             [
              0.2222222222222222,
              "#7201a8"
             ],
             [
              0.3333333333333333,
              "#9c179e"
             ],
             [
              0.4444444444444444,
              "#bd3786"
             ],
             [
              0.5555555555555556,
              "#d8576b"
             ],
             [
              0.6666666666666666,
              "#ed7953"
             ],
             [
              0.7777777777777778,
              "#fb9f3a"
             ],
             [
              0.8888888888888888,
              "#fdca26"
             ],
             [
              1,
              "#f0f921"
             ]
            ],
            "type": "contour"
           }
          ],
          "contourcarpet": [
           {
            "colorbar": {
             "outlinewidth": 0,
             "ticks": ""
            },
            "type": "contourcarpet"
           }
          ],
          "heatmap": [
           {
            "colorbar": {
             "outlinewidth": 0,
             "ticks": ""
            },
            "colorscale": [
             [
              0,
              "#0d0887"
             ],
             [
              0.1111111111111111,
              "#46039f"
             ],
             [
              0.2222222222222222,
              "#7201a8"
             ],
             [
              0.3333333333333333,
              "#9c179e"
             ],
             [
              0.4444444444444444,
              "#bd3786"
             ],
             [
              0.5555555555555556,
              "#d8576b"
             ],
             [
              0.6666666666666666,
              "#ed7953"
             ],
             [
              0.7777777777777778,
              "#fb9f3a"
             ],
             [
              0.8888888888888888,
              "#fdca26"
             ],
             [
              1,
              "#f0f921"
             ]
            ],
            "type": "heatmap"
           }
          ],
          "heatmapgl": [
           {
            "colorbar": {
             "outlinewidth": 0,
             "ticks": ""
            },
            "colorscale": [
             [
              0,
              "#0d0887"
             ],
             [
              0.1111111111111111,
              "#46039f"
             ],
             [
              0.2222222222222222,
              "#7201a8"
             ],
             [
              0.3333333333333333,
              "#9c179e"
             ],
             [
              0.4444444444444444,
              "#bd3786"
             ],
             [
              0.5555555555555556,
              "#d8576b"
             ],
             [
              0.6666666666666666,
              "#ed7953"
             ],
             [
              0.7777777777777778,
              "#fb9f3a"
             ],
             [
              0.8888888888888888,
              "#fdca26"
             ],
             [
              1,
              "#f0f921"
             ]
            ],
            "type": "heatmapgl"
           }
          ],
          "histogram": [
           {
            "marker": {
             "pattern": {
              "fillmode": "overlay",
              "size": 10,
              "solidity": 0.2
             }
            },
            "type": "histogram"
           }
          ],
          "histogram2d": [
           {
            "colorbar": {
             "outlinewidth": 0,
             "ticks": ""
            },
            "colorscale": [
             [
              0,
              "#0d0887"
             ],
             [
              0.1111111111111111,
              "#46039f"
             ],
             [
              0.2222222222222222,
              "#7201a8"
             ],
             [
              0.3333333333333333,
              "#9c179e"
             ],
             [
              0.4444444444444444,
              "#bd3786"
             ],
             [
              0.5555555555555556,
              "#d8576b"
             ],
             [
              0.6666666666666666,
              "#ed7953"
             ],
             [
              0.7777777777777778,
              "#fb9f3a"
             ],
             [
              0.8888888888888888,
              "#fdca26"
             ],
             [
              1,
              "#f0f921"
             ]
            ],
            "type": "histogram2d"
           }
          ],
          "histogram2dcontour": [
           {
            "colorbar": {
             "outlinewidth": 0,
             "ticks": ""
            },
            "colorscale": [
             [
              0,
              "#0d0887"
             ],
             [
              0.1111111111111111,
              "#46039f"
             ],
             [
              0.2222222222222222,
              "#7201a8"
             ],
             [
              0.3333333333333333,
              "#9c179e"
             ],
             [
              0.4444444444444444,
              "#bd3786"
             ],
             [
              0.5555555555555556,
              "#d8576b"
             ],
             [
              0.6666666666666666,
              "#ed7953"
             ],
             [
              0.7777777777777778,
              "#fb9f3a"
             ],
             [
              0.8888888888888888,
              "#fdca26"
             ],
             [
              1,
              "#f0f921"
             ]
            ],
            "type": "histogram2dcontour"
           }
          ],
          "mesh3d": [
           {
            "colorbar": {
             "outlinewidth": 0,
             "ticks": ""
            },
            "type": "mesh3d"
           }
          ],
          "parcoords": [
           {
            "line": {
             "colorbar": {
              "outlinewidth": 0,
              "ticks": ""
             }
            },
            "type": "parcoords"
           }
          ],
          "pie": [
           {
            "automargin": true,
            "type": "pie"
           }
          ],
          "scatter": [
           {
            "fillpattern": {
             "fillmode": "overlay",
             "size": 10,
             "solidity": 0.2
            },
            "type": "scatter"
           }
          ],
          "scatter3d": [
           {
            "line": {
             "colorbar": {
              "outlinewidth": 0,
              "ticks": ""
             }
            },
            "marker": {
             "colorbar": {
              "outlinewidth": 0,
              "ticks": ""
             }
            },
            "type": "scatter3d"
           }
          ],
          "scattercarpet": [
           {
            "marker": {
             "colorbar": {
              "outlinewidth": 0,
              "ticks": ""
             }
            },
            "type": "scattercarpet"
           }
          ],
          "scattergeo": [
           {
            "marker": {
             "colorbar": {
              "outlinewidth": 0,
              "ticks": ""
             }
            },
            "type": "scattergeo"
           }
          ],
          "scattergl": [
           {
            "marker": {
             "colorbar": {
              "outlinewidth": 0,
              "ticks": ""
             }
            },
            "type": "scattergl"
           }
          ],
          "scattermapbox": [
           {
            "marker": {
             "colorbar": {
              "outlinewidth": 0,
              "ticks": ""
             }
            },
            "type": "scattermapbox"
           }
          ],
          "scatterpolar": [
           {
            "marker": {
             "colorbar": {
              "outlinewidth": 0,
              "ticks": ""
             }
            },
            "type": "scatterpolar"
           }
          ],
          "scatterpolargl": [
           {
            "marker": {
             "colorbar": {
              "outlinewidth": 0,
              "ticks": ""
             }
            },
            "type": "scatterpolargl"
           }
          ],
          "scatterternary": [
           {
            "marker": {
             "colorbar": {
              "outlinewidth": 0,
              "ticks": ""
             }
            },
            "type": "scatterternary"
           }
          ],
          "surface": [
           {
            "colorbar": {
             "outlinewidth": 0,
             "ticks": ""
            },
            "colorscale": [
             [
              0,
              "#0d0887"
             ],
             [
              0.1111111111111111,
              "#46039f"
             ],
             [
              0.2222222222222222,
              "#7201a8"
             ],
             [
              0.3333333333333333,
              "#9c179e"
             ],
             [
              0.4444444444444444,
              "#bd3786"
             ],
             [
              0.5555555555555556,
              "#d8576b"
             ],
             [
              0.6666666666666666,
              "#ed7953"
             ],
             [
              0.7777777777777778,
              "#fb9f3a"
             ],
             [
              0.8888888888888888,
              "#fdca26"
             ],
             [
              1,
              "#f0f921"
             ]
            ],
            "type": "surface"
           }
          ],
          "table": [
           {
            "cells": {
             "fill": {
              "color": "#EBF0F8"
             },
             "line": {
              "color": "white"
             }
            },
            "header": {
             "fill": {
              "color": "#C8D4E3"
             },
             "line": {
              "color": "white"
             }
            },
            "type": "table"
           }
          ]
         },
         "layout": {
          "annotationdefaults": {
           "arrowcolor": "#2a3f5f",
           "arrowhead": 0,
           "arrowwidth": 1
          },
          "autotypenumbers": "strict",
          "coloraxis": {
           "colorbar": {
            "outlinewidth": 0,
            "ticks": ""
           }
          },
          "colorscale": {
           "diverging": [
            [
             0,
             "#8e0152"
            ],
            [
             0.1,
             "#c51b7d"
            ],
            [
             0.2,
             "#de77ae"
            ],
            [
             0.3,
             "#f1b6da"
            ],
            [
             0.4,
             "#fde0ef"
            ],
            [
             0.5,
             "#f7f7f7"
            ],
            [
             0.6,
             "#e6f5d0"
            ],
            [
             0.7,
             "#b8e186"
            ],
            [
             0.8,
             "#7fbc41"
            ],
            [
             0.9,
             "#4d9221"
            ],
            [
             1,
             "#276419"
            ]
           ],
           "sequential": [
            [
             0,
             "#0d0887"
            ],
            [
             0.1111111111111111,
             "#46039f"
            ],
            [
             0.2222222222222222,
             "#7201a8"
            ],
            [
             0.3333333333333333,
             "#9c179e"
            ],
            [
             0.4444444444444444,
             "#bd3786"
            ],
            [
             0.5555555555555556,
             "#d8576b"
            ],
            [
             0.6666666666666666,
             "#ed7953"
            ],
            [
             0.7777777777777778,
             "#fb9f3a"
            ],
            [
             0.8888888888888888,
             "#fdca26"
            ],
            [
             1,
             "#f0f921"
            ]
           ],
           "sequentialminus": [
            [
             0,
             "#0d0887"
            ],
            [
             0.1111111111111111,
             "#46039f"
            ],
            [
             0.2222222222222222,
             "#7201a8"
            ],
            [
             0.3333333333333333,
             "#9c179e"
            ],
            [
             0.4444444444444444,
             "#bd3786"
            ],
            [
             0.5555555555555556,
             "#d8576b"
            ],
            [
             0.6666666666666666,
             "#ed7953"
            ],
            [
             0.7777777777777778,
             "#fb9f3a"
            ],
            [
             0.8888888888888888,
             "#fdca26"
            ],
            [
             1,
             "#f0f921"
            ]
           ]
          },
          "colorway": [
           "#636efa",
           "#EF553B",
           "#00cc96",
           "#ab63fa",
           "#FFA15A",
           "#19d3f3",
           "#FF6692",
           "#B6E880",
           "#FF97FF",
           "#FECB52"
          ],
          "font": {
           "color": "#2a3f5f"
          },
          "geo": {
           "bgcolor": "white",
           "lakecolor": "white",
           "landcolor": "#E5ECF6",
           "showlakes": true,
           "showland": true,
           "subunitcolor": "white"
          },
          "hoverlabel": {
           "align": "left"
          },
          "hovermode": "closest",
          "mapbox": {
           "style": "light"
          },
          "paper_bgcolor": "white",
          "plot_bgcolor": "#E5ECF6",
          "polar": {
           "angularaxis": {
            "gridcolor": "white",
            "linecolor": "white",
            "ticks": ""
           },
           "bgcolor": "#E5ECF6",
           "radialaxis": {
            "gridcolor": "white",
            "linecolor": "white",
            "ticks": ""
           }
          },
          "scene": {
           "xaxis": {
            "backgroundcolor": "#E5ECF6",
            "gridcolor": "white",
            "gridwidth": 2,
            "linecolor": "white",
            "showbackground": true,
            "ticks": "",
            "zerolinecolor": "white"
           },
           "yaxis": {
            "backgroundcolor": "#E5ECF6",
            "gridcolor": "white",
            "gridwidth": 2,
            "linecolor": "white",
            "showbackground": true,
            "ticks": "",
            "zerolinecolor": "white"
           },
           "zaxis": {
            "backgroundcolor": "#E5ECF6",
            "gridcolor": "white",
            "gridwidth": 2,
            "linecolor": "white",
            "showbackground": true,
            "ticks": "",
            "zerolinecolor": "white"
           }
          },
          "shapedefaults": {
           "line": {
            "color": "#2a3f5f"
           }
          },
          "ternary": {
           "aaxis": {
            "gridcolor": "white",
            "linecolor": "white",
            "ticks": ""
           },
           "baxis": {
            "gridcolor": "white",
            "linecolor": "white",
            "ticks": ""
           },
           "bgcolor": "#E5ECF6",
           "caxis": {
            "gridcolor": "white",
            "linecolor": "white",
            "ticks": ""
           }
          },
          "title": {
           "x": 0.05
          },
          "xaxis": {
           "automargin": true,
           "gridcolor": "white",
           "linecolor": "white",
           "ticks": "",
           "title": {
            "standoff": 15
           },
           "zerolinecolor": "white",
           "zerolinewidth": 2
          },
          "yaxis": {
           "automargin": true,
           "gridcolor": "white",
           "linecolor": "white",
           "ticks": "",
           "title": {
            "standoff": 15
           },
           "zerolinecolor": "white",
           "zerolinewidth": 2
          }
         }
        },
        "title": {
         "text": "All Ages: Poverty Percentages by State"
        }
       }
      }
     },
     "metadata": {},
     "output_type": "display_data"
    }
   ],
   "source": [
    "# Create the choropleth map\n",
    "fig = px.choropleth(\n",
    "    df_state,\n",
    "    locations='POSTAL_CODE',  # State abbreviations\n",
    "    locationmode='USA-states',  # Location mode set to USA states\n",
    "    color='ALL_AGES_POVERTY_PERCENT',  # Column for coloring\n",
    "    color_continuous_scale='Reds',  # Color scale\n",
    "    scope=\"usa\",  # Focus the map on the USA\n",
    "    labels={'ALL_AGES_POVERTY_ESTIMATE': 'Poverty Estimate'},  # Label for color scale\n",
    "    title='All Ages: Poverty Percentages by State'  # Title of the map\n",
    ")\n",
    "\n",
    "# Show the figure\n",
    "fig.show()"
   ]
  },
  {
   "cell_type": "markdown",
   "metadata": {},
   "source": [
    "The distribution suggests that while many states have moderate poverty rates, a few states have particularly high rates that could be driving the national average up. These states might require more focused interventions to address poverty. It would also be insightful to look at these states' economic conditions, unemployment rates, and other social factors that could be contributing to the higher poverty levels."
   ]
  },
  {
   "cell_type": "markdown",
   "metadata": {},
   "source": [
    "***Create filled map of Poverty Percentages (age 0-17) by State***"
   ]
  },
  {
   "cell_type": "code",
   "execution_count": 38,
   "metadata": {},
   "outputs": [
    {
     "data": {
      "application/vnd.plotly.v1+json": {
       "config": {
        "plotlyServerURL": "https://plot.ly"
       },
       "data": [
        {
         "coloraxis": "coloraxis",
         "geo": "geo",
         "hovertemplate": "POSTAL_CODE=%{location}<br>0_17_POVERTY_PERCENT=%{z}<extra></extra>",
         "locationmode": "USA-states",
         "locations": [
          "AL",
          "AK",
          "AZ",
          "AR",
          "CA",
          "CO",
          "CT",
          "DE",
          "DC",
          "FL",
          "GA",
          "HI",
          "ID",
          "IL",
          "IN",
          "IA",
          "KS",
          "KY",
          "LA",
          "ME",
          "MD",
          "MA",
          "MI",
          "MN",
          "MS",
          "MO",
          "MT",
          "NE",
          "NV",
          "NH",
          "NJ",
          "NM",
          "NY",
          "NC",
          "ND",
          "OH",
          "OK",
          "OR",
          "PA",
          "RI",
          "SC",
          "SD",
          "TN",
          "TX",
          "UT",
          "VT",
          "VA",
          "WA",
          "WV",
          "WI",
          "WY"
         ],
         "name": "",
         "type": "choropleth",
         "z": [
          21.8,
          13.4,
          16,
          21.2,
          15.3,
          11.1,
          12.4,
          14.3,
          20,
          17.3,
          17.2,
          12.1,
          12.3,
          15.7,
          15.4,
          12.3,
          13.7,
          20.6,
          24.9,
          12.4,
          12.1,
          11.6,
          17.8,
          10.9,
          26.4,
          16.8,
          13.8,
          13.5,
          16.5,
          7.7,
          12.7,
          22.9,
          18.6,
          17.3,
          12.3,
          17.7,
          19.7,
          13.6,
          15.2,
          14,
          19.2,
          15.1,
          17.8,
          19.2,
          8.5,
          11.1,
          12.8,
          11.5,
          22.7,
          13,
          13.2
         ]
        }
       ],
       "layout": {
        "coloraxis": {
         "colorbar": {
          "title": {
           "text": "0_17_POVERTY_PERCENT"
          }
         },
         "colorscale": [
          [
           0,
           "rgb(247,251,255)"
          ],
          [
           0.125,
           "rgb(222,235,247)"
          ],
          [
           0.25,
           "rgb(198,219,239)"
          ],
          [
           0.375,
           "rgb(158,202,225)"
          ],
          [
           0.5,
           "rgb(107,174,214)"
          ],
          [
           0.625,
           "rgb(66,146,198)"
          ],
          [
           0.75,
           "rgb(33,113,181)"
          ],
          [
           0.875,
           "rgb(8,81,156)"
          ],
          [
           1,
           "rgb(8,48,107)"
          ]
         ]
        },
        "geo": {
         "center": {},
         "domain": {
          "x": [
           0,
           1
          ],
          "y": [
           0,
           1
          ]
         },
         "scope": "usa"
        },
        "legend": {
         "tracegroupgap": 0
        },
        "template": {
         "data": {
          "bar": [
           {
            "error_x": {
             "color": "#2a3f5f"
            },
            "error_y": {
             "color": "#2a3f5f"
            },
            "marker": {
             "line": {
              "color": "#E5ECF6",
              "width": 0.5
             },
             "pattern": {
              "fillmode": "overlay",
              "size": 10,
              "solidity": 0.2
             }
            },
            "type": "bar"
           }
          ],
          "barpolar": [
           {
            "marker": {
             "line": {
              "color": "#E5ECF6",
              "width": 0.5
             },
             "pattern": {
              "fillmode": "overlay",
              "size": 10,
              "solidity": 0.2
             }
            },
            "type": "barpolar"
           }
          ],
          "carpet": [
           {
            "aaxis": {
             "endlinecolor": "#2a3f5f",
             "gridcolor": "white",
             "linecolor": "white",
             "minorgridcolor": "white",
             "startlinecolor": "#2a3f5f"
            },
            "baxis": {
             "endlinecolor": "#2a3f5f",
             "gridcolor": "white",
             "linecolor": "white",
             "minorgridcolor": "white",
             "startlinecolor": "#2a3f5f"
            },
            "type": "carpet"
           }
          ],
          "choropleth": [
           {
            "colorbar": {
             "outlinewidth": 0,
             "ticks": ""
            },
            "type": "choropleth"
           }
          ],
          "contour": [
           {
            "colorbar": {
             "outlinewidth": 0,
             "ticks": ""
            },
            "colorscale": [
             [
              0,
              "#0d0887"
             ],
             [
              0.1111111111111111,
              "#46039f"
             ],
             [
              0.2222222222222222,
              "#7201a8"
             ],
             [
              0.3333333333333333,
              "#9c179e"
             ],
             [
              0.4444444444444444,
              "#bd3786"
             ],
             [
              0.5555555555555556,
              "#d8576b"
             ],
             [
              0.6666666666666666,
              "#ed7953"
             ],
             [
              0.7777777777777778,
              "#fb9f3a"
             ],
             [
              0.8888888888888888,
              "#fdca26"
             ],
             [
              1,
              "#f0f921"
             ]
            ],
            "type": "contour"
           }
          ],
          "contourcarpet": [
           {
            "colorbar": {
             "outlinewidth": 0,
             "ticks": ""
            },
            "type": "contourcarpet"
           }
          ],
          "heatmap": [
           {
            "colorbar": {
             "outlinewidth": 0,
             "ticks": ""
            },
            "colorscale": [
             [
              0,
              "#0d0887"
             ],
             [
              0.1111111111111111,
              "#46039f"
             ],
             [
              0.2222222222222222,
              "#7201a8"
             ],
             [
              0.3333333333333333,
              "#9c179e"
             ],
             [
              0.4444444444444444,
              "#bd3786"
             ],
             [
              0.5555555555555556,
              "#d8576b"
             ],
             [
              0.6666666666666666,
              "#ed7953"
             ],
             [
              0.7777777777777778,
              "#fb9f3a"
             ],
             [
              0.8888888888888888,
              "#fdca26"
             ],
             [
              1,
              "#f0f921"
             ]
            ],
            "type": "heatmap"
           }
          ],
          "heatmapgl": [
           {
            "colorbar": {
             "outlinewidth": 0,
             "ticks": ""
            },
            "colorscale": [
             [
              0,
              "#0d0887"
             ],
             [
              0.1111111111111111,
              "#46039f"
             ],
             [
              0.2222222222222222,
              "#7201a8"
             ],
             [
              0.3333333333333333,
              "#9c179e"
             ],
             [
              0.4444444444444444,
              "#bd3786"
             ],
             [
              0.5555555555555556,
              "#d8576b"
             ],
             [
              0.6666666666666666,
              "#ed7953"
             ],
             [
              0.7777777777777778,
              "#fb9f3a"
             ],
             [
              0.8888888888888888,
              "#fdca26"
             ],
             [
              1,
              "#f0f921"
             ]
            ],
            "type": "heatmapgl"
           }
          ],
          "histogram": [
           {
            "marker": {
             "pattern": {
              "fillmode": "overlay",
              "size": 10,
              "solidity": 0.2
             }
            },
            "type": "histogram"
           }
          ],
          "histogram2d": [
           {
            "colorbar": {
             "outlinewidth": 0,
             "ticks": ""
            },
            "colorscale": [
             [
              0,
              "#0d0887"
             ],
             [
              0.1111111111111111,
              "#46039f"
             ],
             [
              0.2222222222222222,
              "#7201a8"
             ],
             [
              0.3333333333333333,
              "#9c179e"
             ],
             [
              0.4444444444444444,
              "#bd3786"
             ],
             [
              0.5555555555555556,
              "#d8576b"
             ],
             [
              0.6666666666666666,
              "#ed7953"
             ],
             [
              0.7777777777777778,
              "#fb9f3a"
             ],
             [
              0.8888888888888888,
              "#fdca26"
             ],
             [
              1,
              "#f0f921"
             ]
            ],
            "type": "histogram2d"
           }
          ],
          "histogram2dcontour": [
           {
            "colorbar": {
             "outlinewidth": 0,
             "ticks": ""
            },
            "colorscale": [
             [
              0,
              "#0d0887"
             ],
             [
              0.1111111111111111,
              "#46039f"
             ],
             [
              0.2222222222222222,
              "#7201a8"
             ],
             [
              0.3333333333333333,
              "#9c179e"
             ],
             [
              0.4444444444444444,
              "#bd3786"
             ],
             [
              0.5555555555555556,
              "#d8576b"
             ],
             [
              0.6666666666666666,
              "#ed7953"
             ],
             [
              0.7777777777777778,
              "#fb9f3a"
             ],
             [
              0.8888888888888888,
              "#fdca26"
             ],
             [
              1,
              "#f0f921"
             ]
            ],
            "type": "histogram2dcontour"
           }
          ],
          "mesh3d": [
           {
            "colorbar": {
             "outlinewidth": 0,
             "ticks": ""
            },
            "type": "mesh3d"
           }
          ],
          "parcoords": [
           {
            "line": {
             "colorbar": {
              "outlinewidth": 0,
              "ticks": ""
             }
            },
            "type": "parcoords"
           }
          ],
          "pie": [
           {
            "automargin": true,
            "type": "pie"
           }
          ],
          "scatter": [
           {
            "fillpattern": {
             "fillmode": "overlay",
             "size": 10,
             "solidity": 0.2
            },
            "type": "scatter"
           }
          ],
          "scatter3d": [
           {
            "line": {
             "colorbar": {
              "outlinewidth": 0,
              "ticks": ""
             }
            },
            "marker": {
             "colorbar": {
              "outlinewidth": 0,
              "ticks": ""
             }
            },
            "type": "scatter3d"
           }
          ],
          "scattercarpet": [
           {
            "marker": {
             "colorbar": {
              "outlinewidth": 0,
              "ticks": ""
             }
            },
            "type": "scattercarpet"
           }
          ],
          "scattergeo": [
           {
            "marker": {
             "colorbar": {
              "outlinewidth": 0,
              "ticks": ""
             }
            },
            "type": "scattergeo"
           }
          ],
          "scattergl": [
           {
            "marker": {
             "colorbar": {
              "outlinewidth": 0,
              "ticks": ""
             }
            },
            "type": "scattergl"
           }
          ],
          "scattermapbox": [
           {
            "marker": {
             "colorbar": {
              "outlinewidth": 0,
              "ticks": ""
             }
            },
            "type": "scattermapbox"
           }
          ],
          "scatterpolar": [
           {
            "marker": {
             "colorbar": {
              "outlinewidth": 0,
              "ticks": ""
             }
            },
            "type": "scatterpolar"
           }
          ],
          "scatterpolargl": [
           {
            "marker": {
             "colorbar": {
              "outlinewidth": 0,
              "ticks": ""
             }
            },
            "type": "scatterpolargl"
           }
          ],
          "scatterternary": [
           {
            "marker": {
             "colorbar": {
              "outlinewidth": 0,
              "ticks": ""
             }
            },
            "type": "scatterternary"
           }
          ],
          "surface": [
           {
            "colorbar": {
             "outlinewidth": 0,
             "ticks": ""
            },
            "colorscale": [
             [
              0,
              "#0d0887"
             ],
             [
              0.1111111111111111,
              "#46039f"
             ],
             [
              0.2222222222222222,
              "#7201a8"
             ],
             [
              0.3333333333333333,
              "#9c179e"
             ],
             [
              0.4444444444444444,
              "#bd3786"
             ],
             [
              0.5555555555555556,
              "#d8576b"
             ],
             [
              0.6666666666666666,
              "#ed7953"
             ],
             [
              0.7777777777777778,
              "#fb9f3a"
             ],
             [
              0.8888888888888888,
              "#fdca26"
             ],
             [
              1,
              "#f0f921"
             ]
            ],
            "type": "surface"
           }
          ],
          "table": [
           {
            "cells": {
             "fill": {
              "color": "#EBF0F8"
             },
             "line": {
              "color": "white"
             }
            },
            "header": {
             "fill": {
              "color": "#C8D4E3"
             },
             "line": {
              "color": "white"
             }
            },
            "type": "table"
           }
          ]
         },
         "layout": {
          "annotationdefaults": {
           "arrowcolor": "#2a3f5f",
           "arrowhead": 0,
           "arrowwidth": 1
          },
          "autotypenumbers": "strict",
          "coloraxis": {
           "colorbar": {
            "outlinewidth": 0,
            "ticks": ""
           }
          },
          "colorscale": {
           "diverging": [
            [
             0,
             "#8e0152"
            ],
            [
             0.1,
             "#c51b7d"
            ],
            [
             0.2,
             "#de77ae"
            ],
            [
             0.3,
             "#f1b6da"
            ],
            [
             0.4,
             "#fde0ef"
            ],
            [
             0.5,
             "#f7f7f7"
            ],
            [
             0.6,
             "#e6f5d0"
            ],
            [
             0.7,
             "#b8e186"
            ],
            [
             0.8,
             "#7fbc41"
            ],
            [
             0.9,
             "#4d9221"
            ],
            [
             1,
             "#276419"
            ]
           ],
           "sequential": [
            [
             0,
             "#0d0887"
            ],
            [
             0.1111111111111111,
             "#46039f"
            ],
            [
             0.2222222222222222,
             "#7201a8"
            ],
            [
             0.3333333333333333,
             "#9c179e"
            ],
            [
             0.4444444444444444,
             "#bd3786"
            ],
            [
             0.5555555555555556,
             "#d8576b"
            ],
            [
             0.6666666666666666,
             "#ed7953"
            ],
            [
             0.7777777777777778,
             "#fb9f3a"
            ],
            [
             0.8888888888888888,
             "#fdca26"
            ],
            [
             1,
             "#f0f921"
            ]
           ],
           "sequentialminus": [
            [
             0,
             "#0d0887"
            ],
            [
             0.1111111111111111,
             "#46039f"
            ],
            [
             0.2222222222222222,
             "#7201a8"
            ],
            [
             0.3333333333333333,
             "#9c179e"
            ],
            [
             0.4444444444444444,
             "#bd3786"
            ],
            [
             0.5555555555555556,
             "#d8576b"
            ],
            [
             0.6666666666666666,
             "#ed7953"
            ],
            [
             0.7777777777777778,
             "#fb9f3a"
            ],
            [
             0.8888888888888888,
             "#fdca26"
            ],
            [
             1,
             "#f0f921"
            ]
           ]
          },
          "colorway": [
           "#636efa",
           "#EF553B",
           "#00cc96",
           "#ab63fa",
           "#FFA15A",
           "#19d3f3",
           "#FF6692",
           "#B6E880",
           "#FF97FF",
           "#FECB52"
          ],
          "font": {
           "color": "#2a3f5f"
          },
          "geo": {
           "bgcolor": "white",
           "lakecolor": "white",
           "landcolor": "#E5ECF6",
           "showlakes": true,
           "showland": true,
           "subunitcolor": "white"
          },
          "hoverlabel": {
           "align": "left"
          },
          "hovermode": "closest",
          "mapbox": {
           "style": "light"
          },
          "paper_bgcolor": "white",
          "plot_bgcolor": "#E5ECF6",
          "polar": {
           "angularaxis": {
            "gridcolor": "white",
            "linecolor": "white",
            "ticks": ""
           },
           "bgcolor": "#E5ECF6",
           "radialaxis": {
            "gridcolor": "white",
            "linecolor": "white",
            "ticks": ""
           }
          },
          "scene": {
           "xaxis": {
            "backgroundcolor": "#E5ECF6",
            "gridcolor": "white",
            "gridwidth": 2,
            "linecolor": "white",
            "showbackground": true,
            "ticks": "",
            "zerolinecolor": "white"
           },
           "yaxis": {
            "backgroundcolor": "#E5ECF6",
            "gridcolor": "white",
            "gridwidth": 2,
            "linecolor": "white",
            "showbackground": true,
            "ticks": "",
            "zerolinecolor": "white"
           },
           "zaxis": {
            "backgroundcolor": "#E5ECF6",
            "gridcolor": "white",
            "gridwidth": 2,
            "linecolor": "white",
            "showbackground": true,
            "ticks": "",
            "zerolinecolor": "white"
           }
          },
          "shapedefaults": {
           "line": {
            "color": "#2a3f5f"
           }
          },
          "ternary": {
           "aaxis": {
            "gridcolor": "white",
            "linecolor": "white",
            "ticks": ""
           },
           "baxis": {
            "gridcolor": "white",
            "linecolor": "white",
            "ticks": ""
           },
           "bgcolor": "#E5ECF6",
           "caxis": {
            "gridcolor": "white",
            "linecolor": "white",
            "ticks": ""
           }
          },
          "title": {
           "x": 0.05
          },
          "xaxis": {
           "automargin": true,
           "gridcolor": "white",
           "linecolor": "white",
           "ticks": "",
           "title": {
            "standoff": 15
           },
           "zerolinecolor": "white",
           "zerolinewidth": 2
          },
          "yaxis": {
           "automargin": true,
           "gridcolor": "white",
           "linecolor": "white",
           "ticks": "",
           "title": {
            "standoff": 15
           },
           "zerolinecolor": "white",
           "zerolinewidth": 2
          }
         }
        },
        "title": {
         "text": "Age 0-17: Poverty Percentages by State"
        }
       }
      }
     },
     "metadata": {},
     "output_type": "display_data"
    }
   ],
   "source": [
    "# Create the choropleth map\n",
    "fig = px.choropleth(\n",
    "    df_state,\n",
    "    locations='POSTAL_CODE',  # State abbreviations\n",
    "    locationmode='USA-states',  # Location mode set to USA states\n",
    "    color='0_17_POVERTY_PERCENT',  # Column for coloring\n",
    "    color_continuous_scale='Blues',  # Color scale\n",
    "    scope=\"usa\",  # Focus the map on the USA\n",
    "    labels={'0_17_POVERTY_ESTIMATE': 'Poverty Estimate'},  # Label for color scale\n",
    "    title='Age 0-17: Poverty Percentages by State'  # Title of the map\n",
    ")\n",
    "\n",
    "# Show the figure\n",
    "fig.show()"
   ]
  },
  {
   "cell_type": "markdown",
   "metadata": {},
   "source": [
    "-----\n",
    "##### ***3*** - Median Income Analysis\n",
    "***Create horizontal bar chart of Median Income by state***"
   ]
  },
  {
   "cell_type": "code",
   "execution_count": 26,
   "metadata": {},
   "outputs": [
    {
     "data": {
      "application/vnd.plotly.v1+json": {
       "config": {
        "plotlyServerURL": "https://plot.ly"
       },
       "data": [
        {
         "alignmentgroup": "True",
         "hovertemplate": "Median Household Income=%{marker.color}<br>State=%{y}<extra></extra>",
         "legendgroup": "",
         "marker": {
          "color": [
           52788,
           54097,
           55458,
           55505,
           59246,
           59632,
           59703,
           59842,
           64227,
           64783,
           65231,
           65786,
           66768,
           66926,
           67516,
           67915,
           68827,
           69287,
           69485,
           69708,
           69828,
           70597,
           71050,
           71275,
           71789,
           72279,
           72348,
           72634,
           72742,
           73240,
           74355,
           74555,
           75638,
           76744,
           79463,
           80873,
           81933,
           82343,
           85838,
           88072,
           88182,
           88531,
           89096,
           90750,
           91255,
           91517,
           93683,
           94538,
           94957,
           96341,
           99897
          ],
          "coloraxis": "coloraxis",
          "pattern": {
           "shape": ""
          }
         },
         "name": "",
         "offsetgroup": "",
         "orientation": "h",
         "showlegend": false,
         "textposition": "auto",
         "type": "bar",
         "x": [
          52788,
          54097,
          55458,
          55505,
          59246,
          59632,
          59703,
          59842,
          64227,
          64783,
          65231,
          65786,
          66768,
          66926,
          67516,
          67915,
          68827,
          69287,
          69485,
          69708,
          69828,
          70597,
          71050,
          71275,
          71789,
          72279,
          72348,
          72634,
          72742,
          73240,
          74355,
          74555,
          75638,
          76744,
          79463,
          80873,
          81933,
          82343,
          85838,
          88072,
          88182,
          88531,
          89096,
          90750,
          91255,
          91517,
          93683,
          94538,
          94957,
          96341,
          99897
         ],
         "xaxis": "x",
         "y": [
          "MS",
          "WV",
          "LA",
          "AR",
          "KY",
          "OK",
          "AL",
          "NM",
          "SC",
          "MO",
          "TN",
          "OH",
          "IN",
          "MI",
          "NC",
          "MT",
          "KS",
          "FL",
          "ME",
          "IA",
          "NE",
          "SD",
          "WI",
          "WY",
          "PA",
          "TX",
          "NV",
          "ID",
          "GA",
          "ND",
          "AZ",
          "VT",
          "OR",
          "IL",
          "NY",
          "RI",
          "DE",
          "MN",
          "VA",
          "AK",
          "CT",
          "UT",
          "CO",
          "NH",
          "WA",
          "CA",
          "HI",
          "MA",
          "MD",
          "NJ",
          "DC"
         ],
         "yaxis": "y"
        }
       ],
       "layout": {
        "barmode": "relative",
        "coloraxis": {
         "colorbar": {
          "title": {
           "text": "Median Household Income"
          }
         },
         "colorscale": [
          [
           0,
           "rgb(247,252,245)"
          ],
          [
           0.125,
           "rgb(229,245,224)"
          ],
          [
           0.25,
           "rgb(199,233,192)"
          ],
          [
           0.375,
           "rgb(161,217,155)"
          ],
          [
           0.5,
           "rgb(116,196,118)"
          ],
          [
           0.625,
           "rgb(65,171,93)"
          ],
          [
           0.75,
           "rgb(35,139,69)"
          ],
          [
           0.875,
           "rgb(0,109,44)"
          ],
          [
           1,
           "rgb(0,68,27)"
          ]
         ]
        },
        "legend": {
         "tracegroupgap": 0
        },
        "template": {
         "data": {
          "bar": [
           {
            "error_x": {
             "color": "#2a3f5f"
            },
            "error_y": {
             "color": "#2a3f5f"
            },
            "marker": {
             "line": {
              "color": "#E5ECF6",
              "width": 0.5
             },
             "pattern": {
              "fillmode": "overlay",
              "size": 10,
              "solidity": 0.2
             }
            },
            "type": "bar"
           }
          ],
          "barpolar": [
           {
            "marker": {
             "line": {
              "color": "#E5ECF6",
              "width": 0.5
             },
             "pattern": {
              "fillmode": "overlay",
              "size": 10,
              "solidity": 0.2
             }
            },
            "type": "barpolar"
           }
          ],
          "carpet": [
           {
            "aaxis": {
             "endlinecolor": "#2a3f5f",
             "gridcolor": "white",
             "linecolor": "white",
             "minorgridcolor": "white",
             "startlinecolor": "#2a3f5f"
            },
            "baxis": {
             "endlinecolor": "#2a3f5f",
             "gridcolor": "white",
             "linecolor": "white",
             "minorgridcolor": "white",
             "startlinecolor": "#2a3f5f"
            },
            "type": "carpet"
           }
          ],
          "choropleth": [
           {
            "colorbar": {
             "outlinewidth": 0,
             "ticks": ""
            },
            "type": "choropleth"
           }
          ],
          "contour": [
           {
            "colorbar": {
             "outlinewidth": 0,
             "ticks": ""
            },
            "colorscale": [
             [
              0,
              "#0d0887"
             ],
             [
              0.1111111111111111,
              "#46039f"
             ],
             [
              0.2222222222222222,
              "#7201a8"
             ],
             [
              0.3333333333333333,
              "#9c179e"
             ],
             [
              0.4444444444444444,
              "#bd3786"
             ],
             [
              0.5555555555555556,
              "#d8576b"
             ],
             [
              0.6666666666666666,
              "#ed7953"
             ],
             [
              0.7777777777777778,
              "#fb9f3a"
             ],
             [
              0.8888888888888888,
              "#fdca26"
             ],
             [
              1,
              "#f0f921"
             ]
            ],
            "type": "contour"
           }
          ],
          "contourcarpet": [
           {
            "colorbar": {
             "outlinewidth": 0,
             "ticks": ""
            },
            "type": "contourcarpet"
           }
          ],
          "heatmap": [
           {
            "colorbar": {
             "outlinewidth": 0,
             "ticks": ""
            },
            "colorscale": [
             [
              0,
              "#0d0887"
             ],
             [
              0.1111111111111111,
              "#46039f"
             ],
             [
              0.2222222222222222,
              "#7201a8"
             ],
             [
              0.3333333333333333,
              "#9c179e"
             ],
             [
              0.4444444444444444,
              "#bd3786"
             ],
             [
              0.5555555555555556,
              "#d8576b"
             ],
             [
              0.6666666666666666,
              "#ed7953"
             ],
             [
              0.7777777777777778,
              "#fb9f3a"
             ],
             [
              0.8888888888888888,
              "#fdca26"
             ],
             [
              1,
              "#f0f921"
             ]
            ],
            "type": "heatmap"
           }
          ],
          "heatmapgl": [
           {
            "colorbar": {
             "outlinewidth": 0,
             "ticks": ""
            },
            "colorscale": [
             [
              0,
              "#0d0887"
             ],
             [
              0.1111111111111111,
              "#46039f"
             ],
             [
              0.2222222222222222,
              "#7201a8"
             ],
             [
              0.3333333333333333,
              "#9c179e"
             ],
             [
              0.4444444444444444,
              "#bd3786"
             ],
             [
              0.5555555555555556,
              "#d8576b"
             ],
             [
              0.6666666666666666,
              "#ed7953"
             ],
             [
              0.7777777777777778,
              "#fb9f3a"
             ],
             [
              0.8888888888888888,
              "#fdca26"
             ],
             [
              1,
              "#f0f921"
             ]
            ],
            "type": "heatmapgl"
           }
          ],
          "histogram": [
           {
            "marker": {
             "pattern": {
              "fillmode": "overlay",
              "size": 10,
              "solidity": 0.2
             }
            },
            "type": "histogram"
           }
          ],
          "histogram2d": [
           {
            "colorbar": {
             "outlinewidth": 0,
             "ticks": ""
            },
            "colorscale": [
             [
              0,
              "#0d0887"
             ],
             [
              0.1111111111111111,
              "#46039f"
             ],
             [
              0.2222222222222222,
              "#7201a8"
             ],
             [
              0.3333333333333333,
              "#9c179e"
             ],
             [
              0.4444444444444444,
              "#bd3786"
             ],
             [
              0.5555555555555556,
              "#d8576b"
             ],
             [
              0.6666666666666666,
              "#ed7953"
             ],
             [
              0.7777777777777778,
              "#fb9f3a"
             ],
             [
              0.8888888888888888,
              "#fdca26"
             ],
             [
              1,
              "#f0f921"
             ]
            ],
            "type": "histogram2d"
           }
          ],
          "histogram2dcontour": [
           {
            "colorbar": {
             "outlinewidth": 0,
             "ticks": ""
            },
            "colorscale": [
             [
              0,
              "#0d0887"
             ],
             [
              0.1111111111111111,
              "#46039f"
             ],
             [
              0.2222222222222222,
              "#7201a8"
             ],
             [
              0.3333333333333333,
              "#9c179e"
             ],
             [
              0.4444444444444444,
              "#bd3786"
             ],
             [
              0.5555555555555556,
              "#d8576b"
             ],
             [
              0.6666666666666666,
              "#ed7953"
             ],
             [
              0.7777777777777778,
              "#fb9f3a"
             ],
             [
              0.8888888888888888,
              "#fdca26"
             ],
             [
              1,
              "#f0f921"
             ]
            ],
            "type": "histogram2dcontour"
           }
          ],
          "mesh3d": [
           {
            "colorbar": {
             "outlinewidth": 0,
             "ticks": ""
            },
            "type": "mesh3d"
           }
          ],
          "parcoords": [
           {
            "line": {
             "colorbar": {
              "outlinewidth": 0,
              "ticks": ""
             }
            },
            "type": "parcoords"
           }
          ],
          "pie": [
           {
            "automargin": true,
            "type": "pie"
           }
          ],
          "scatter": [
           {
            "fillpattern": {
             "fillmode": "overlay",
             "size": 10,
             "solidity": 0.2
            },
            "type": "scatter"
           }
          ],
          "scatter3d": [
           {
            "line": {
             "colorbar": {
              "outlinewidth": 0,
              "ticks": ""
             }
            },
            "marker": {
             "colorbar": {
              "outlinewidth": 0,
              "ticks": ""
             }
            },
            "type": "scatter3d"
           }
          ],
          "scattercarpet": [
           {
            "marker": {
             "colorbar": {
              "outlinewidth": 0,
              "ticks": ""
             }
            },
            "type": "scattercarpet"
           }
          ],
          "scattergeo": [
           {
            "marker": {
             "colorbar": {
              "outlinewidth": 0,
              "ticks": ""
             }
            },
            "type": "scattergeo"
           }
          ],
          "scattergl": [
           {
            "marker": {
             "colorbar": {
              "outlinewidth": 0,
              "ticks": ""
             }
            },
            "type": "scattergl"
           }
          ],
          "scattermapbox": [
           {
            "marker": {
             "colorbar": {
              "outlinewidth": 0,
              "ticks": ""
             }
            },
            "type": "scattermapbox"
           }
          ],
          "scatterpolar": [
           {
            "marker": {
             "colorbar": {
              "outlinewidth": 0,
              "ticks": ""
             }
            },
            "type": "scatterpolar"
           }
          ],
          "scatterpolargl": [
           {
            "marker": {
             "colorbar": {
              "outlinewidth": 0,
              "ticks": ""
             }
            },
            "type": "scatterpolargl"
           }
          ],
          "scatterternary": [
           {
            "marker": {
             "colorbar": {
              "outlinewidth": 0,
              "ticks": ""
             }
            },
            "type": "scatterternary"
           }
          ],
          "surface": [
           {
            "colorbar": {
             "outlinewidth": 0,
             "ticks": ""
            },
            "colorscale": [
             [
              0,
              "#0d0887"
             ],
             [
              0.1111111111111111,
              "#46039f"
             ],
             [
              0.2222222222222222,
              "#7201a8"
             ],
             [
              0.3333333333333333,
              "#9c179e"
             ],
             [
              0.4444444444444444,
              "#bd3786"
             ],
             [
              0.5555555555555556,
              "#d8576b"
             ],
             [
              0.6666666666666666,
              "#ed7953"
             ],
             [
              0.7777777777777778,
              "#fb9f3a"
             ],
             [
              0.8888888888888888,
              "#fdca26"
             ],
             [
              1,
              "#f0f921"
             ]
            ],
            "type": "surface"
           }
          ],
          "table": [
           {
            "cells": {
             "fill": {
              "color": "#EBF0F8"
             },
             "line": {
              "color": "white"
             }
            },
            "header": {
             "fill": {
              "color": "#C8D4E3"
             },
             "line": {
              "color": "white"
             }
            },
            "type": "table"
           }
          ]
         },
         "layout": {
          "annotationdefaults": {
           "arrowcolor": "#2a3f5f",
           "arrowhead": 0,
           "arrowwidth": 1
          },
          "autotypenumbers": "strict",
          "coloraxis": {
           "colorbar": {
            "outlinewidth": 0,
            "ticks": ""
           }
          },
          "colorscale": {
           "diverging": [
            [
             0,
             "#8e0152"
            ],
            [
             0.1,
             "#c51b7d"
            ],
            [
             0.2,
             "#de77ae"
            ],
            [
             0.3,
             "#f1b6da"
            ],
            [
             0.4,
             "#fde0ef"
            ],
            [
             0.5,
             "#f7f7f7"
            ],
            [
             0.6,
             "#e6f5d0"
            ],
            [
             0.7,
             "#b8e186"
            ],
            [
             0.8,
             "#7fbc41"
            ],
            [
             0.9,
             "#4d9221"
            ],
            [
             1,
             "#276419"
            ]
           ],
           "sequential": [
            [
             0,
             "#0d0887"
            ],
            [
             0.1111111111111111,
             "#46039f"
            ],
            [
             0.2222222222222222,
             "#7201a8"
            ],
            [
             0.3333333333333333,
             "#9c179e"
            ],
            [
             0.4444444444444444,
             "#bd3786"
            ],
            [
             0.5555555555555556,
             "#d8576b"
            ],
            [
             0.6666666666666666,
             "#ed7953"
            ],
            [
             0.7777777777777778,
             "#fb9f3a"
            ],
            [
             0.8888888888888888,
             "#fdca26"
            ],
            [
             1,
             "#f0f921"
            ]
           ],
           "sequentialminus": [
            [
             0,
             "#0d0887"
            ],
            [
             0.1111111111111111,
             "#46039f"
            ],
            [
             0.2222222222222222,
             "#7201a8"
            ],
            [
             0.3333333333333333,
             "#9c179e"
            ],
            [
             0.4444444444444444,
             "#bd3786"
            ],
            [
             0.5555555555555556,
             "#d8576b"
            ],
            [
             0.6666666666666666,
             "#ed7953"
            ],
            [
             0.7777777777777778,
             "#fb9f3a"
            ],
            [
             0.8888888888888888,
             "#fdca26"
            ],
            [
             1,
             "#f0f921"
            ]
           ]
          },
          "colorway": [
           "#636efa",
           "#EF553B",
           "#00cc96",
           "#ab63fa",
           "#FFA15A",
           "#19d3f3",
           "#FF6692",
           "#B6E880",
           "#FF97FF",
           "#FECB52"
          ],
          "font": {
           "color": "#2a3f5f"
          },
          "geo": {
           "bgcolor": "white",
           "lakecolor": "white",
           "landcolor": "#E5ECF6",
           "showlakes": true,
           "showland": true,
           "subunitcolor": "white"
          },
          "hoverlabel": {
           "align": "left"
          },
          "hovermode": "closest",
          "mapbox": {
           "style": "light"
          },
          "paper_bgcolor": "white",
          "plot_bgcolor": "#E5ECF6",
          "polar": {
           "angularaxis": {
            "gridcolor": "white",
            "linecolor": "white",
            "ticks": ""
           },
           "bgcolor": "#E5ECF6",
           "radialaxis": {
            "gridcolor": "white",
            "linecolor": "white",
            "ticks": ""
           }
          },
          "scene": {
           "xaxis": {
            "backgroundcolor": "#E5ECF6",
            "gridcolor": "white",
            "gridwidth": 2,
            "linecolor": "white",
            "showbackground": true,
            "ticks": "",
            "zerolinecolor": "white"
           },
           "yaxis": {
            "backgroundcolor": "#E5ECF6",
            "gridcolor": "white",
            "gridwidth": 2,
            "linecolor": "white",
            "showbackground": true,
            "ticks": "",
            "zerolinecolor": "white"
           },
           "zaxis": {
            "backgroundcolor": "#E5ECF6",
            "gridcolor": "white",
            "gridwidth": 2,
            "linecolor": "white",
            "showbackground": true,
            "ticks": "",
            "zerolinecolor": "white"
           }
          },
          "shapedefaults": {
           "line": {
            "color": "#2a3f5f"
           }
          },
          "ternary": {
           "aaxis": {
            "gridcolor": "white",
            "linecolor": "white",
            "ticks": ""
           },
           "baxis": {
            "gridcolor": "white",
            "linecolor": "white",
            "ticks": ""
           },
           "bgcolor": "#E5ECF6",
           "caxis": {
            "gridcolor": "white",
            "linecolor": "white",
            "ticks": ""
           }
          },
          "title": {
           "x": 0.05
          },
          "xaxis": {
           "automargin": true,
           "gridcolor": "white",
           "linecolor": "white",
           "ticks": "",
           "title": {
            "standoff": 15
           },
           "zerolinecolor": "white",
           "zerolinewidth": 2
          },
          "yaxis": {
           "automargin": true,
           "gridcolor": "white",
           "linecolor": "white",
           "ticks": "",
           "title": {
            "standoff": 15
           },
           "zerolinecolor": "white",
           "zerolinewidth": 2
          }
         }
        },
        "title": {
         "text": "Median Household Incomes by State"
        },
        "xaxis": {
         "anchor": "y",
         "domain": [
          0,
          1
         ],
         "title": {
          "text": "Median Household Income"
         }
        },
        "yaxis": {
         "anchor": "x",
         "domain": [
          0,
          1
         ],
         "title": {
          "text": "State"
         }
        }
       }
      }
     },
     "metadata": {},
     "output_type": "display_data"
    }
   ],
   "source": [
    "# Filter the data to exclude the 'US' aggregate row and select only the required columns\n",
    "df_median_income = df[df['POSTAL_CODE'] != 'US'][['POSTAL_CODE', 'MEDIAN_HOUSEHOLD_INCOME']]\n",
    "\n",
    "# Sort the data by median household income for better visualization\n",
    "df_median_income_sorted = df_median_income.sort_values('MEDIAN_HOUSEHOLD_INCOME', ascending=True)\n",
    "\n",
    "# Now we create the bar graph using Plotly\n",
    "fig_income = px.bar(\n",
    "    df_median_income_sorted,\n",
    "    x='MEDIAN_HOUSEHOLD_INCOME',\n",
    "    y='POSTAL_CODE',\n",
    "    orientation='h',\n",
    "    title='Median Household Incomes by State',\n",
    "    labels={'MEDIAN_HOUSEHOLD_INCOME': 'Median Household Income', 'POSTAL_CODE': 'State'},\n",
    "    color='MEDIAN_HOUSEHOLD_INCOME',\n",
    "    color_continuous_scale=px.colors.sequential.Greens\n",
    ")\n",
    "\n",
    "fig_income.show()"
   ]
  },
  {
   "cell_type": "markdown",
   "metadata": {},
   "source": [
    "***Create filled map of Median Household Income by state***"
   ]
  },
  {
   "cell_type": "code",
   "execution_count": 36,
   "metadata": {},
   "outputs": [
    {
     "data": {
      "application/vnd.plotly.v1+json": {
       "config": {
        "plotlyServerURL": "https://plot.ly"
       },
       "data": [
        {
         "coloraxis": "coloraxis",
         "geo": "geo",
         "hovertemplate": "POSTAL_CODE=%{location}<br>Median Household Income=%{z}<extra></extra>",
         "locationmode": "USA-states",
         "locations": [
          "AL",
          "AK",
          "AZ",
          "AR",
          "CA",
          "CO",
          "CT",
          "DE",
          "DC",
          "FL",
          "GA",
          "HI",
          "ID",
          "IL",
          "IN",
          "IA",
          "KS",
          "KY",
          "LA",
          "ME",
          "MD",
          "MA",
          "MI",
          "MN",
          "MS",
          "MO",
          "MT",
          "NE",
          "NV",
          "NH",
          "NJ",
          "NM",
          "NY",
          "NC",
          "ND",
          "OH",
          "OK",
          "OR",
          "PA",
          "RI",
          "SC",
          "SD",
          "TN",
          "TX",
          "UT",
          "VT",
          "VA",
          "WA",
          "WV",
          "WI",
          "WY"
         ],
         "name": "",
         "type": "choropleth",
         "z": [
          59703,
          88072,
          74355,
          55505,
          91517,
          89096,
          88182,
          81933,
          99897,
          69287,
          72742,
          93683,
          72634,
          76744,
          66768,
          69708,
          68827,
          59246,
          55458,
          69485,
          94957,
          94538,
          66926,
          82343,
          52788,
          64783,
          67915,
          69828,
          72348,
          90750,
          96341,
          59842,
          79463,
          67516,
          73240,
          65786,
          59632,
          75638,
          71789,
          80873,
          64227,
          70597,
          65231,
          72279,
          88531,
          74555,
          85838,
          91255,
          54097,
          71050,
          71275
         ]
        }
       ],
       "layout": {
        "coloraxis": {
         "colorbar": {
          "title": {
           "text": "Median Household Income"
          }
         },
         "colorscale": [
          [
           0,
           "rgb(247,252,245)"
          ],
          [
           0.125,
           "rgb(229,245,224)"
          ],
          [
           0.25,
           "rgb(199,233,192)"
          ],
          [
           0.375,
           "rgb(161,217,155)"
          ],
          [
           0.5,
           "rgb(116,196,118)"
          ],
          [
           0.625,
           "rgb(65,171,93)"
          ],
          [
           0.75,
           "rgb(35,139,69)"
          ],
          [
           0.875,
           "rgb(0,109,44)"
          ],
          [
           1,
           "rgb(0,68,27)"
          ]
         ]
        },
        "geo": {
         "center": {},
         "domain": {
          "x": [
           0,
           1
          ],
          "y": [
           0,
           1
          ]
         },
         "scope": "usa"
        },
        "legend": {
         "tracegroupgap": 0
        },
        "template": {
         "data": {
          "bar": [
           {
            "error_x": {
             "color": "#2a3f5f"
            },
            "error_y": {
             "color": "#2a3f5f"
            },
            "marker": {
             "line": {
              "color": "#E5ECF6",
              "width": 0.5
             },
             "pattern": {
              "fillmode": "overlay",
              "size": 10,
              "solidity": 0.2
             }
            },
            "type": "bar"
           }
          ],
          "barpolar": [
           {
            "marker": {
             "line": {
              "color": "#E5ECF6",
              "width": 0.5
             },
             "pattern": {
              "fillmode": "overlay",
              "size": 10,
              "solidity": 0.2
             }
            },
            "type": "barpolar"
           }
          ],
          "carpet": [
           {
            "aaxis": {
             "endlinecolor": "#2a3f5f",
             "gridcolor": "white",
             "linecolor": "white",
             "minorgridcolor": "white",
             "startlinecolor": "#2a3f5f"
            },
            "baxis": {
             "endlinecolor": "#2a3f5f",
             "gridcolor": "white",
             "linecolor": "white",
             "minorgridcolor": "white",
             "startlinecolor": "#2a3f5f"
            },
            "type": "carpet"
           }
          ],
          "choropleth": [
           {
            "colorbar": {
             "outlinewidth": 0,
             "ticks": ""
            },
            "type": "choropleth"
           }
          ],
          "contour": [
           {
            "colorbar": {
             "outlinewidth": 0,
             "ticks": ""
            },
            "colorscale": [
             [
              0,
              "#0d0887"
             ],
             [
              0.1111111111111111,
              "#46039f"
             ],
             [
              0.2222222222222222,
              "#7201a8"
             ],
             [
              0.3333333333333333,
              "#9c179e"
             ],
             [
              0.4444444444444444,
              "#bd3786"
             ],
             [
              0.5555555555555556,
              "#d8576b"
             ],
             [
              0.6666666666666666,
              "#ed7953"
             ],
             [
              0.7777777777777778,
              "#fb9f3a"
             ],
             [
              0.8888888888888888,
              "#fdca26"
             ],
             [
              1,
              "#f0f921"
             ]
            ],
            "type": "contour"
           }
          ],
          "contourcarpet": [
           {
            "colorbar": {
             "outlinewidth": 0,
             "ticks": ""
            },
            "type": "contourcarpet"
           }
          ],
          "heatmap": [
           {
            "colorbar": {
             "outlinewidth": 0,
             "ticks": ""
            },
            "colorscale": [
             [
              0,
              "#0d0887"
             ],
             [
              0.1111111111111111,
              "#46039f"
             ],
             [
              0.2222222222222222,
              "#7201a8"
             ],
             [
              0.3333333333333333,
              "#9c179e"
             ],
             [
              0.4444444444444444,
              "#bd3786"
             ],
             [
              0.5555555555555556,
              "#d8576b"
             ],
             [
              0.6666666666666666,
              "#ed7953"
             ],
             [
              0.7777777777777778,
              "#fb9f3a"
             ],
             [
              0.8888888888888888,
              "#fdca26"
             ],
             [
              1,
              "#f0f921"
             ]
            ],
            "type": "heatmap"
           }
          ],
          "heatmapgl": [
           {
            "colorbar": {
             "outlinewidth": 0,
             "ticks": ""
            },
            "colorscale": [
             [
              0,
              "#0d0887"
             ],
             [
              0.1111111111111111,
              "#46039f"
             ],
             [
              0.2222222222222222,
              "#7201a8"
             ],
             [
              0.3333333333333333,
              "#9c179e"
             ],
             [
              0.4444444444444444,
              "#bd3786"
             ],
             [
              0.5555555555555556,
              "#d8576b"
             ],
             [
              0.6666666666666666,
              "#ed7953"
             ],
             [
              0.7777777777777778,
              "#fb9f3a"
             ],
             [
              0.8888888888888888,
              "#fdca26"
             ],
             [
              1,
              "#f0f921"
             ]
            ],
            "type": "heatmapgl"
           }
          ],
          "histogram": [
           {
            "marker": {
             "pattern": {
              "fillmode": "overlay",
              "size": 10,
              "solidity": 0.2
             }
            },
            "type": "histogram"
           }
          ],
          "histogram2d": [
           {
            "colorbar": {
             "outlinewidth": 0,
             "ticks": ""
            },
            "colorscale": [
             [
              0,
              "#0d0887"
             ],
             [
              0.1111111111111111,
              "#46039f"
             ],
             [
              0.2222222222222222,
              "#7201a8"
             ],
             [
              0.3333333333333333,
              "#9c179e"
             ],
             [
              0.4444444444444444,
              "#bd3786"
             ],
             [
              0.5555555555555556,
              "#d8576b"
             ],
             [
              0.6666666666666666,
              "#ed7953"
             ],
             [
              0.7777777777777778,
              "#fb9f3a"
             ],
             [
              0.8888888888888888,
              "#fdca26"
             ],
             [
              1,
              "#f0f921"
             ]
            ],
            "type": "histogram2d"
           }
          ],
          "histogram2dcontour": [
           {
            "colorbar": {
             "outlinewidth": 0,
             "ticks": ""
            },
            "colorscale": [
             [
              0,
              "#0d0887"
             ],
             [
              0.1111111111111111,
              "#46039f"
             ],
             [
              0.2222222222222222,
              "#7201a8"
             ],
             [
              0.3333333333333333,
              "#9c179e"
             ],
             [
              0.4444444444444444,
              "#bd3786"
             ],
             [
              0.5555555555555556,
              "#d8576b"
             ],
             [
              0.6666666666666666,
              "#ed7953"
             ],
             [
              0.7777777777777778,
              "#fb9f3a"
             ],
             [
              0.8888888888888888,
              "#fdca26"
             ],
             [
              1,
              "#f0f921"
             ]
            ],
            "type": "histogram2dcontour"
           }
          ],
          "mesh3d": [
           {
            "colorbar": {
             "outlinewidth": 0,
             "ticks": ""
            },
            "type": "mesh3d"
           }
          ],
          "parcoords": [
           {
            "line": {
             "colorbar": {
              "outlinewidth": 0,
              "ticks": ""
             }
            },
            "type": "parcoords"
           }
          ],
          "pie": [
           {
            "automargin": true,
            "type": "pie"
           }
          ],
          "scatter": [
           {
            "fillpattern": {
             "fillmode": "overlay",
             "size": 10,
             "solidity": 0.2
            },
            "type": "scatter"
           }
          ],
          "scatter3d": [
           {
            "line": {
             "colorbar": {
              "outlinewidth": 0,
              "ticks": ""
             }
            },
            "marker": {
             "colorbar": {
              "outlinewidth": 0,
              "ticks": ""
             }
            },
            "type": "scatter3d"
           }
          ],
          "scattercarpet": [
           {
            "marker": {
             "colorbar": {
              "outlinewidth": 0,
              "ticks": ""
             }
            },
            "type": "scattercarpet"
           }
          ],
          "scattergeo": [
           {
            "marker": {
             "colorbar": {
              "outlinewidth": 0,
              "ticks": ""
             }
            },
            "type": "scattergeo"
           }
          ],
          "scattergl": [
           {
            "marker": {
             "colorbar": {
              "outlinewidth": 0,
              "ticks": ""
             }
            },
            "type": "scattergl"
           }
          ],
          "scattermapbox": [
           {
            "marker": {
             "colorbar": {
              "outlinewidth": 0,
              "ticks": ""
             }
            },
            "type": "scattermapbox"
           }
          ],
          "scatterpolar": [
           {
            "marker": {
             "colorbar": {
              "outlinewidth": 0,
              "ticks": ""
             }
            },
            "type": "scatterpolar"
           }
          ],
          "scatterpolargl": [
           {
            "marker": {
             "colorbar": {
              "outlinewidth": 0,
              "ticks": ""
             }
            },
            "type": "scatterpolargl"
           }
          ],
          "scatterternary": [
           {
            "marker": {
             "colorbar": {
              "outlinewidth": 0,
              "ticks": ""
             }
            },
            "type": "scatterternary"
           }
          ],
          "surface": [
           {
            "colorbar": {
             "outlinewidth": 0,
             "ticks": ""
            },
            "colorscale": [
             [
              0,
              "#0d0887"
             ],
             [
              0.1111111111111111,
              "#46039f"
             ],
             [
              0.2222222222222222,
              "#7201a8"
             ],
             [
              0.3333333333333333,
              "#9c179e"
             ],
             [
              0.4444444444444444,
              "#bd3786"
             ],
             [
              0.5555555555555556,
              "#d8576b"
             ],
             [
              0.6666666666666666,
              "#ed7953"
             ],
             [
              0.7777777777777778,
              "#fb9f3a"
             ],
             [
              0.8888888888888888,
              "#fdca26"
             ],
             [
              1,
              "#f0f921"
             ]
            ],
            "type": "surface"
           }
          ],
          "table": [
           {
            "cells": {
             "fill": {
              "color": "#EBF0F8"
             },
             "line": {
              "color": "white"
             }
            },
            "header": {
             "fill": {
              "color": "#C8D4E3"
             },
             "line": {
              "color": "white"
             }
            },
            "type": "table"
           }
          ]
         },
         "layout": {
          "annotationdefaults": {
           "arrowcolor": "#2a3f5f",
           "arrowhead": 0,
           "arrowwidth": 1
          },
          "autotypenumbers": "strict",
          "coloraxis": {
           "colorbar": {
            "outlinewidth": 0,
            "ticks": ""
           }
          },
          "colorscale": {
           "diverging": [
            [
             0,
             "#8e0152"
            ],
            [
             0.1,
             "#c51b7d"
            ],
            [
             0.2,
             "#de77ae"
            ],
            [
             0.3,
             "#f1b6da"
            ],
            [
             0.4,
             "#fde0ef"
            ],
            [
             0.5,
             "#f7f7f7"
            ],
            [
             0.6,
             "#e6f5d0"
            ],
            [
             0.7,
             "#b8e186"
            ],
            [
             0.8,
             "#7fbc41"
            ],
            [
             0.9,
             "#4d9221"
            ],
            [
             1,
             "#276419"
            ]
           ],
           "sequential": [
            [
             0,
             "#0d0887"
            ],
            [
             0.1111111111111111,
             "#46039f"
            ],
            [
             0.2222222222222222,
             "#7201a8"
            ],
            [
             0.3333333333333333,
             "#9c179e"
            ],
            [
             0.4444444444444444,
             "#bd3786"
            ],
            [
             0.5555555555555556,
             "#d8576b"
            ],
            [
             0.6666666666666666,
             "#ed7953"
            ],
            [
             0.7777777777777778,
             "#fb9f3a"
            ],
            [
             0.8888888888888888,
             "#fdca26"
            ],
            [
             1,
             "#f0f921"
            ]
           ],
           "sequentialminus": [
            [
             0,
             "#0d0887"
            ],
            [
             0.1111111111111111,
             "#46039f"
            ],
            [
             0.2222222222222222,
             "#7201a8"
            ],
            [
             0.3333333333333333,
             "#9c179e"
            ],
            [
             0.4444444444444444,
             "#bd3786"
            ],
            [
             0.5555555555555556,
             "#d8576b"
            ],
            [
             0.6666666666666666,
             "#ed7953"
            ],
            [
             0.7777777777777778,
             "#fb9f3a"
            ],
            [
             0.8888888888888888,
             "#fdca26"
            ],
            [
             1,
             "#f0f921"
            ]
           ]
          },
          "colorway": [
           "#636efa",
           "#EF553B",
           "#00cc96",
           "#ab63fa",
           "#FFA15A",
           "#19d3f3",
           "#FF6692",
           "#B6E880",
           "#FF97FF",
           "#FECB52"
          ],
          "font": {
           "color": "#2a3f5f"
          },
          "geo": {
           "bgcolor": "white",
           "lakecolor": "white",
           "landcolor": "#E5ECF6",
           "showlakes": true,
           "showland": true,
           "subunitcolor": "white"
          },
          "hoverlabel": {
           "align": "left"
          },
          "hovermode": "closest",
          "mapbox": {
           "style": "light"
          },
          "paper_bgcolor": "white",
          "plot_bgcolor": "#E5ECF6",
          "polar": {
           "angularaxis": {
            "gridcolor": "white",
            "linecolor": "white",
            "ticks": ""
           },
           "bgcolor": "#E5ECF6",
           "radialaxis": {
            "gridcolor": "white",
            "linecolor": "white",
            "ticks": ""
           }
          },
          "scene": {
           "xaxis": {
            "backgroundcolor": "#E5ECF6",
            "gridcolor": "white",
            "gridwidth": 2,
            "linecolor": "white",
            "showbackground": true,
            "ticks": "",
            "zerolinecolor": "white"
           },
           "yaxis": {
            "backgroundcolor": "#E5ECF6",
            "gridcolor": "white",
            "gridwidth": 2,
            "linecolor": "white",
            "showbackground": true,
            "ticks": "",
            "zerolinecolor": "white"
           },
           "zaxis": {
            "backgroundcolor": "#E5ECF6",
            "gridcolor": "white",
            "gridwidth": 2,
            "linecolor": "white",
            "showbackground": true,
            "ticks": "",
            "zerolinecolor": "white"
           }
          },
          "shapedefaults": {
           "line": {
            "color": "#2a3f5f"
           }
          },
          "ternary": {
           "aaxis": {
            "gridcolor": "white",
            "linecolor": "white",
            "ticks": ""
           },
           "baxis": {
            "gridcolor": "white",
            "linecolor": "white",
            "ticks": ""
           },
           "bgcolor": "#E5ECF6",
           "caxis": {
            "gridcolor": "white",
            "linecolor": "white",
            "ticks": ""
           }
          },
          "title": {
           "x": 0.05
          },
          "xaxis": {
           "automargin": true,
           "gridcolor": "white",
           "linecolor": "white",
           "ticks": "",
           "title": {
            "standoff": 15
           },
           "zerolinecolor": "white",
           "zerolinewidth": 2
          },
          "yaxis": {
           "automargin": true,
           "gridcolor": "white",
           "linecolor": "white",
           "ticks": "",
           "title": {
            "standoff": 15
           },
           "zerolinecolor": "white",
           "zerolinewidth": 2
          }
         }
        },
        "title": {
         "text": "Median Income by State"
        }
       }
      }
     },
     "metadata": {},
     "output_type": "display_data"
    }
   ],
   "source": [
    "# Create the choropleth map\n",
    "fig = px.choropleth(\n",
    "    df_state,\n",
    "    locations='POSTAL_CODE',  # State abbreviations\n",
    "    locationmode='USA-states',  # Location mode set to USA states\n",
    "    color='MEDIAN_HOUSEHOLD_INCOME',  # Column for coloring\n",
    "    color_continuous_scale='Greens',  # Color scale\n",
    "    scope=\"usa\",  # Focus the map on the USA\n",
    "    labels={'MEDIAN_HOUSEHOLD_INCOME': 'Median Household Income'},  # Label for color scale\n",
    "    title='Median Income by State'  # Title of the map\n",
    ")\n",
    "\n",
    "# Show the figure\n",
    "fig.show()"
   ]
  },
  {
   "cell_type": "markdown",
   "metadata": {},
   "source": [
    "***Create scatter plot of Poverty Rate vs. Median Household Income by state***"
   ]
  },
  {
   "cell_type": "code",
   "execution_count": 35,
   "metadata": {},
   "outputs": [
    {
     "data": {
      "application/vnd.plotly.v1+json": {
       "config": {
        "plotlyServerURL": "https://plot.ly"
       },
       "data": [
        {
         "hovertemplate": "Median Household Income ($)=%{x}<br>All Ages Poverty Rate (%)=%{marker.color}<br>POSTAL_CODE=%{text}<extra></extra>",
         "legendgroup": "",
         "marker": {
          "color": [
           16.2,
           10.8,
           12.5,
           16.3,
           12.2,
           9.5,
           9.8,
           10,
           14.2,
           12.7,
           12.9,
           10,
           10.5,
           11.9,
           12.5,
           11,
           11.9,
           16.3,
           18.6,
           10.9,
           9.8,
           10.4,
           13.3,
           9.6,
           19.2,
           13.1,
           11.8,
           11.1,
           12.6,
           7.4,
           9.7,
           17.3,
           14.2,
           12.8,
           11.2,
           13.4,
           15.6,
           12,
           11.8,
           11.2,
           14,
           12.4,
           13.3,
           14,
           8.3,
           10.2,
           10.6,
           10,
           17.4,
           10.8,
           11.2
          ],
          "coloraxis": "coloraxis",
          "symbol": "circle"
         },
         "mode": "markers+text",
         "name": "",
         "orientation": "v",
         "showlegend": false,
         "text": [
          "AL",
          "AK",
          "AZ",
          "AR",
          "CA",
          "CO",
          "CT",
          "DE",
          "DC",
          "FL",
          "GA",
          "HI",
          "ID",
          "IL",
          "IN",
          "IA",
          "KS",
          "KY",
          "LA",
          "ME",
          "MD",
          "MA",
          "MI",
          "MN",
          "MS",
          "MO",
          "MT",
          "NE",
          "NV",
          "NH",
          "NJ",
          "NM",
          "NY",
          "NC",
          "ND",
          "OH",
          "OK",
          "OR",
          "PA",
          "RI",
          "SC",
          "SD",
          "TN",
          "TX",
          "UT",
          "VT",
          "VA",
          "WA",
          "WV",
          "WI",
          "WY"
         ],
         "textposition": "top center",
         "type": "scatter",
         "x": [
          59703,
          88072,
          74355,
          55505,
          91517,
          89096,
          88182,
          81933,
          99897,
          69287,
          72742,
          93683,
          72634,
          76744,
          66768,
          69708,
          68827,
          59246,
          55458,
          69485,
          94957,
          94538,
          66926,
          82343,
          52788,
          64783,
          67915,
          69828,
          72348,
          90750,
          96341,
          59842,
          79463,
          67516,
          73240,
          65786,
          59632,
          75638,
          71789,
          80873,
          64227,
          70597,
          65231,
          72279,
          88531,
          74555,
          85838,
          91255,
          54097,
          71050,
          71275
         ],
         "xaxis": "x",
         "y": [
          16.2,
          10.8,
          12.5,
          16.3,
          12.2,
          9.5,
          9.8,
          10,
          14.2,
          12.7,
          12.9,
          10,
          10.5,
          11.9,
          12.5,
          11,
          11.9,
          16.3,
          18.6,
          10.9,
          9.8,
          10.4,
          13.3,
          9.6,
          19.2,
          13.1,
          11.8,
          11.1,
          12.6,
          7.4,
          9.7,
          17.3,
          14.2,
          12.8,
          11.2,
          13.4,
          15.6,
          12,
          11.8,
          11.2,
          14,
          12.4,
          13.3,
          14,
          8.3,
          10.2,
          10.6,
          10,
          17.4,
          10.8,
          11.2
         ],
         "yaxis": "y"
        }
       ],
       "layout": {
        "coloraxis": {
         "colorbar": {
          "title": {
           "text": "All Ages Poverty Rate (%)"
          }
         },
         "colorscale": [
          [
           0,
           "rgb(255,245,240)"
          ],
          [
           0.125,
           "rgb(254,224,210)"
          ],
          [
           0.25,
           "rgb(252,187,161)"
          ],
          [
           0.375,
           "rgb(252,146,114)"
          ],
          [
           0.5,
           "rgb(251,106,74)"
          ],
          [
           0.625,
           "rgb(239,59,44)"
          ],
          [
           0.75,
           "rgb(203,24,29)"
          ],
          [
           0.875,
           "rgb(165,15,21)"
          ],
          [
           1,
           "rgb(103,0,13)"
          ]
         ]
        },
        "legend": {
         "tracegroupgap": 0
        },
        "template": {
         "data": {
          "bar": [
           {
            "error_x": {
             "color": "#2a3f5f"
            },
            "error_y": {
             "color": "#2a3f5f"
            },
            "marker": {
             "line": {
              "color": "#E5ECF6",
              "width": 0.5
             },
             "pattern": {
              "fillmode": "overlay",
              "size": 10,
              "solidity": 0.2
             }
            },
            "type": "bar"
           }
          ],
          "barpolar": [
           {
            "marker": {
             "line": {
              "color": "#E5ECF6",
              "width": 0.5
             },
             "pattern": {
              "fillmode": "overlay",
              "size": 10,
              "solidity": 0.2
             }
            },
            "type": "barpolar"
           }
          ],
          "carpet": [
           {
            "aaxis": {
             "endlinecolor": "#2a3f5f",
             "gridcolor": "white",
             "linecolor": "white",
             "minorgridcolor": "white",
             "startlinecolor": "#2a3f5f"
            },
            "baxis": {
             "endlinecolor": "#2a3f5f",
             "gridcolor": "white",
             "linecolor": "white",
             "minorgridcolor": "white",
             "startlinecolor": "#2a3f5f"
            },
            "type": "carpet"
           }
          ],
          "choropleth": [
           {
            "colorbar": {
             "outlinewidth": 0,
             "ticks": ""
            },
            "type": "choropleth"
           }
          ],
          "contour": [
           {
            "colorbar": {
             "outlinewidth": 0,
             "ticks": ""
            },
            "colorscale": [
             [
              0,
              "#0d0887"
             ],
             [
              0.1111111111111111,
              "#46039f"
             ],
             [
              0.2222222222222222,
              "#7201a8"
             ],
             [
              0.3333333333333333,
              "#9c179e"
             ],
             [
              0.4444444444444444,
              "#bd3786"
             ],
             [
              0.5555555555555556,
              "#d8576b"
             ],
             [
              0.6666666666666666,
              "#ed7953"
             ],
             [
              0.7777777777777778,
              "#fb9f3a"
             ],
             [
              0.8888888888888888,
              "#fdca26"
             ],
             [
              1,
              "#f0f921"
             ]
            ],
            "type": "contour"
           }
          ],
          "contourcarpet": [
           {
            "colorbar": {
             "outlinewidth": 0,
             "ticks": ""
            },
            "type": "contourcarpet"
           }
          ],
          "heatmap": [
           {
            "colorbar": {
             "outlinewidth": 0,
             "ticks": ""
            },
            "colorscale": [
             [
              0,
              "#0d0887"
             ],
             [
              0.1111111111111111,
              "#46039f"
             ],
             [
              0.2222222222222222,
              "#7201a8"
             ],
             [
              0.3333333333333333,
              "#9c179e"
             ],
             [
              0.4444444444444444,
              "#bd3786"
             ],
             [
              0.5555555555555556,
              "#d8576b"
             ],
             [
              0.6666666666666666,
              "#ed7953"
             ],
             [
              0.7777777777777778,
              "#fb9f3a"
             ],
             [
              0.8888888888888888,
              "#fdca26"
             ],
             [
              1,
              "#f0f921"
             ]
            ],
            "type": "heatmap"
           }
          ],
          "heatmapgl": [
           {
            "colorbar": {
             "outlinewidth": 0,
             "ticks": ""
            },
            "colorscale": [
             [
              0,
              "#0d0887"
             ],
             [
              0.1111111111111111,
              "#46039f"
             ],
             [
              0.2222222222222222,
              "#7201a8"
             ],
             [
              0.3333333333333333,
              "#9c179e"
             ],
             [
              0.4444444444444444,
              "#bd3786"
             ],
             [
              0.5555555555555556,
              "#d8576b"
             ],
             [
              0.6666666666666666,
              "#ed7953"
             ],
             [
              0.7777777777777778,
              "#fb9f3a"
             ],
             [
              0.8888888888888888,
              "#fdca26"
             ],
             [
              1,
              "#f0f921"
             ]
            ],
            "type": "heatmapgl"
           }
          ],
          "histogram": [
           {
            "marker": {
             "pattern": {
              "fillmode": "overlay",
              "size": 10,
              "solidity": 0.2
             }
            },
            "type": "histogram"
           }
          ],
          "histogram2d": [
           {
            "colorbar": {
             "outlinewidth": 0,
             "ticks": ""
            },
            "colorscale": [
             [
              0,
              "#0d0887"
             ],
             [
              0.1111111111111111,
              "#46039f"
             ],
             [
              0.2222222222222222,
              "#7201a8"
             ],
             [
              0.3333333333333333,
              "#9c179e"
             ],
             [
              0.4444444444444444,
              "#bd3786"
             ],
             [
              0.5555555555555556,
              "#d8576b"
             ],
             [
              0.6666666666666666,
              "#ed7953"
             ],
             [
              0.7777777777777778,
              "#fb9f3a"
             ],
             [
              0.8888888888888888,
              "#fdca26"
             ],
             [
              1,
              "#f0f921"
             ]
            ],
            "type": "histogram2d"
           }
          ],
          "histogram2dcontour": [
           {
            "colorbar": {
             "outlinewidth": 0,
             "ticks": ""
            },
            "colorscale": [
             [
              0,
              "#0d0887"
             ],
             [
              0.1111111111111111,
              "#46039f"
             ],
             [
              0.2222222222222222,
              "#7201a8"
             ],
             [
              0.3333333333333333,
              "#9c179e"
             ],
             [
              0.4444444444444444,
              "#bd3786"
             ],
             [
              0.5555555555555556,
              "#d8576b"
             ],
             [
              0.6666666666666666,
              "#ed7953"
             ],
             [
              0.7777777777777778,
              "#fb9f3a"
             ],
             [
              0.8888888888888888,
              "#fdca26"
             ],
             [
              1,
              "#f0f921"
             ]
            ],
            "type": "histogram2dcontour"
           }
          ],
          "mesh3d": [
           {
            "colorbar": {
             "outlinewidth": 0,
             "ticks": ""
            },
            "type": "mesh3d"
           }
          ],
          "parcoords": [
           {
            "line": {
             "colorbar": {
              "outlinewidth": 0,
              "ticks": ""
             }
            },
            "type": "parcoords"
           }
          ],
          "pie": [
           {
            "automargin": true,
            "type": "pie"
           }
          ],
          "scatter": [
           {
            "fillpattern": {
             "fillmode": "overlay",
             "size": 10,
             "solidity": 0.2
            },
            "type": "scatter"
           }
          ],
          "scatter3d": [
           {
            "line": {
             "colorbar": {
              "outlinewidth": 0,
              "ticks": ""
             }
            },
            "marker": {
             "colorbar": {
              "outlinewidth": 0,
              "ticks": ""
             }
            },
            "type": "scatter3d"
           }
          ],
          "scattercarpet": [
           {
            "marker": {
             "colorbar": {
              "outlinewidth": 0,
              "ticks": ""
             }
            },
            "type": "scattercarpet"
           }
          ],
          "scattergeo": [
           {
            "marker": {
             "colorbar": {
              "outlinewidth": 0,
              "ticks": ""
             }
            },
            "type": "scattergeo"
           }
          ],
          "scattergl": [
           {
            "marker": {
             "colorbar": {
              "outlinewidth": 0,
              "ticks": ""
             }
            },
            "type": "scattergl"
           }
          ],
          "scattermapbox": [
           {
            "marker": {
             "colorbar": {
              "outlinewidth": 0,
              "ticks": ""
             }
            },
            "type": "scattermapbox"
           }
          ],
          "scatterpolar": [
           {
            "marker": {
             "colorbar": {
              "outlinewidth": 0,
              "ticks": ""
             }
            },
            "type": "scatterpolar"
           }
          ],
          "scatterpolargl": [
           {
            "marker": {
             "colorbar": {
              "outlinewidth": 0,
              "ticks": ""
             }
            },
            "type": "scatterpolargl"
           }
          ],
          "scatterternary": [
           {
            "marker": {
             "colorbar": {
              "outlinewidth": 0,
              "ticks": ""
             }
            },
            "type": "scatterternary"
           }
          ],
          "surface": [
           {
            "colorbar": {
             "outlinewidth": 0,
             "ticks": ""
            },
            "colorscale": [
             [
              0,
              "#0d0887"
             ],
             [
              0.1111111111111111,
              "#46039f"
             ],
             [
              0.2222222222222222,
              "#7201a8"
             ],
             [
              0.3333333333333333,
              "#9c179e"
             ],
             [
              0.4444444444444444,
              "#bd3786"
             ],
             [
              0.5555555555555556,
              "#d8576b"
             ],
             [
              0.6666666666666666,
              "#ed7953"
             ],
             [
              0.7777777777777778,
              "#fb9f3a"
             ],
             [
              0.8888888888888888,
              "#fdca26"
             ],
             [
              1,
              "#f0f921"
             ]
            ],
            "type": "surface"
           }
          ],
          "table": [
           {
            "cells": {
             "fill": {
              "color": "#EBF0F8"
             },
             "line": {
              "color": "white"
             }
            },
            "header": {
             "fill": {
              "color": "#C8D4E3"
             },
             "line": {
              "color": "white"
             }
            },
            "type": "table"
           }
          ]
         },
         "layout": {
          "annotationdefaults": {
           "arrowcolor": "#2a3f5f",
           "arrowhead": 0,
           "arrowwidth": 1
          },
          "autotypenumbers": "strict",
          "coloraxis": {
           "colorbar": {
            "outlinewidth": 0,
            "ticks": ""
           }
          },
          "colorscale": {
           "diverging": [
            [
             0,
             "#8e0152"
            ],
            [
             0.1,
             "#c51b7d"
            ],
            [
             0.2,
             "#de77ae"
            ],
            [
             0.3,
             "#f1b6da"
            ],
            [
             0.4,
             "#fde0ef"
            ],
            [
             0.5,
             "#f7f7f7"
            ],
            [
             0.6,
             "#e6f5d0"
            ],
            [
             0.7,
             "#b8e186"
            ],
            [
             0.8,
             "#7fbc41"
            ],
            [
             0.9,
             "#4d9221"
            ],
            [
             1,
             "#276419"
            ]
           ],
           "sequential": [
            [
             0,
             "#0d0887"
            ],
            [
             0.1111111111111111,
             "#46039f"
            ],
            [
             0.2222222222222222,
             "#7201a8"
            ],
            [
             0.3333333333333333,
             "#9c179e"
            ],
            [
             0.4444444444444444,
             "#bd3786"
            ],
            [
             0.5555555555555556,
             "#d8576b"
            ],
            [
             0.6666666666666666,
             "#ed7953"
            ],
            [
             0.7777777777777778,
             "#fb9f3a"
            ],
            [
             0.8888888888888888,
             "#fdca26"
            ],
            [
             1,
             "#f0f921"
            ]
           ],
           "sequentialminus": [
            [
             0,
             "#0d0887"
            ],
            [
             0.1111111111111111,
             "#46039f"
            ],
            [
             0.2222222222222222,
             "#7201a8"
            ],
            [
             0.3333333333333333,
             "#9c179e"
            ],
            [
             0.4444444444444444,
             "#bd3786"
            ],
            [
             0.5555555555555556,
             "#d8576b"
            ],
            [
             0.6666666666666666,
             "#ed7953"
            ],
            [
             0.7777777777777778,
             "#fb9f3a"
            ],
            [
             0.8888888888888888,
             "#fdca26"
            ],
            [
             1,
             "#f0f921"
            ]
           ]
          },
          "colorway": [
           "#636efa",
           "#EF553B",
           "#00cc96",
           "#ab63fa",
           "#FFA15A",
           "#19d3f3",
           "#FF6692",
           "#B6E880",
           "#FF97FF",
           "#FECB52"
          ],
          "font": {
           "color": "#2a3f5f"
          },
          "geo": {
           "bgcolor": "white",
           "lakecolor": "white",
           "landcolor": "#E5ECF6",
           "showlakes": true,
           "showland": true,
           "subunitcolor": "white"
          },
          "hoverlabel": {
           "align": "left"
          },
          "hovermode": "closest",
          "mapbox": {
           "style": "light"
          },
          "paper_bgcolor": "white",
          "plot_bgcolor": "#E5ECF6",
          "polar": {
           "angularaxis": {
            "gridcolor": "white",
            "linecolor": "white",
            "ticks": ""
           },
           "bgcolor": "#E5ECF6",
           "radialaxis": {
            "gridcolor": "white",
            "linecolor": "white",
            "ticks": ""
           }
          },
          "scene": {
           "xaxis": {
            "backgroundcolor": "#E5ECF6",
            "gridcolor": "white",
            "gridwidth": 2,
            "linecolor": "white",
            "showbackground": true,
            "ticks": "",
            "zerolinecolor": "white"
           },
           "yaxis": {
            "backgroundcolor": "#E5ECF6",
            "gridcolor": "white",
            "gridwidth": 2,
            "linecolor": "white",
            "showbackground": true,
            "ticks": "",
            "zerolinecolor": "white"
           },
           "zaxis": {
            "backgroundcolor": "#E5ECF6",
            "gridcolor": "white",
            "gridwidth": 2,
            "linecolor": "white",
            "showbackground": true,
            "ticks": "",
            "zerolinecolor": "white"
           }
          },
          "shapedefaults": {
           "line": {
            "color": "#2a3f5f"
           }
          },
          "ternary": {
           "aaxis": {
            "gridcolor": "white",
            "linecolor": "white",
            "ticks": ""
           },
           "baxis": {
            "gridcolor": "white",
            "linecolor": "white",
            "ticks": ""
           },
           "bgcolor": "#E5ECF6",
           "caxis": {
            "gridcolor": "white",
            "linecolor": "white",
            "ticks": ""
           }
          },
          "title": {
           "x": 0.05
          },
          "xaxis": {
           "automargin": true,
           "gridcolor": "white",
           "linecolor": "white",
           "ticks": "",
           "title": {
            "standoff": 15
           },
           "zerolinecolor": "white",
           "zerolinewidth": 2
          },
          "yaxis": {
           "automargin": true,
           "gridcolor": "white",
           "linecolor": "white",
           "ticks": "",
           "title": {
            "standoff": 15
           },
           "zerolinecolor": "white",
           "zerolinewidth": 2
          }
         }
        },
        "title": {
         "text": "Poverty Rate vs. Median Household Income by State"
        },
        "xaxis": {
         "anchor": "y",
         "domain": [
          0,
          1
         ],
         "title": {
          "text": "Median Household Income ($)"
         }
        },
        "yaxis": {
         "anchor": "x",
         "domain": [
          0,
          1
         ],
         "title": {
          "text": "All Ages Poverty Rate (%)"
         }
        }
       }
      }
     },
     "metadata": {},
     "output_type": "display_data"
    }
   ],
   "source": [
    "# Create the scatter plot using Plotly\n",
    "fig_scatter = px.scatter(\n",
    "    df_state,\n",
    "    x='MEDIAN_HOUSEHOLD_INCOME',\n",
    "    y='ALL_AGES_POVERTY_PERCENT',\n",
    "    text='POSTAL_CODE',  # Display state abbreviations on the plot\n",
    "    title='Poverty Rate vs. Median Household Income by State',\n",
    "    labels={\n",
    "        'MEDIAN_HOUSEHOLD_INCOME': 'Median Household Income ($)',\n",
    "        'ALL_AGES_POVERTY_PERCENT': 'All Ages Poverty Rate (%)'\n",
    "    },\n",
    "    color='ALL_AGES_POVERTY_PERCENT',  # Color the points by poverty rate\n",
    "    color_continuous_scale=px.colors.sequential.Reds\n",
    ")\n",
    "\n",
    "# Adding state labels to the points for better readability\n",
    "fig_scatter.update_traces(textposition='top center')"
   ]
  },
  {
   "cell_type": "markdown",
   "metadata": {},
   "source": [
    "1. **Inverse Relationship**: As expected, there is a clear inverse relationship between the median household income and the poverty rate. States with higher median incomes generally have lower poverty rates.\n",
    "2. **High Poverty and Low Income**: States like Mississippi (MS), Louisiana (LA), West Virginia (WV), and Arkansas (AR) appear in the top left corner, indicating they have higher poverty rates and lower median household incomes.\n",
    "3. **Low Poverty and High Income**: Conversely, states such as New Hampshire (NH), Maryland (MD), New Jersey (NJ), and Hawaii (HI) are located in the bottom right, showing they have lower poverty rates and higher median household incomes.\n",
    "4. **Outliers**: The District of Columbia (DC) stands out as an outlier with a high median income but also a high poverty rate, suggesting a large income disparity within the district.\n",
    "5. **Middle Cluster**: A large cluster of states falls around the center of the plot, indicating a grouping of states with moderate income levels and poverty rates. This cluster suggests a level of consistency in economic conditions across a significant portion of the country.\n",
    "6. **Regional Patterns**: While this plot doesn't explicitly show regional groupings, you can infer regional trends based on the states' abbreviations. For example, Southern states tend to have lower median incomes and higher poverty rates.\n",
    "7. **Data Spread**: The spread of the data points indicates variability in the strength of the correlation between median household income and poverty rates among states. For instance, some states with similar median incomes have different poverty rates, which could be due to other socio-economic factors not captured in this plot."
   ]
  },
  {
   "cell_type": "markdown",
   "metadata": {},
   "source": [
    "-----\n",
    "***4*** - Actions and Insights: Conclusion"
   ]
  },
  {
   "cell_type": "markdown",
   "metadata": {},
   "source": [
    "From the visualizations and data analysis performed on the provided dataset, several actionable insights can be derived:\n",
    "\n",
    "1. **Targeted Poverty Alleviation Programs**: States with high poverty rates and low median household incomes may benefit from increased federal and state assistance programs. Policy-makers could focus on creating or expanding education and job training programs to improve employment opportunities, which in turn can help raise median incomes and reduce poverty.\n",
    "2. **Income Disparity Analysis**: In areas like the District of Columbia, which exhibit high median incomes alongside high poverty rates, local governments could investigate the root causes of such income disparities. This may include studying the cost of living, housing affordability, and wage distribution within the job market.\n",
    "3. **Economic Development Initiatives**: States with lower median household incomes could be targets for economic development initiatives. This might involve attracting new businesses, supporting small businesses, improving infrastructure, or providing tax incentives for industries that offer higher-paying jobs.\n",
    "4. **Healthcare and Education Accessibility**: Improving access to healthcare and education can be a powerful tool in reducing poverty. Investments in these areas can lead to better health outcomes and higher earning potential over the long term.\n",
    "5. **Customized State Policies**: Each state has a unique economic environment. The data suggests that a one-size-fits-all approach may not be effective. Instead, states should tailor their economic policies to address their specific challenges and opportunities.\n",
    "6. **Addressing Underlying Issues**: For states that are outliers or those that don't follow the general inverse trend between income and poverty, it's crucial to understand the underlying issues. This could include examining factors such as the availability of full-time work, the impact of part-time work on poverty rates, access to childcare, or other social services.\n",
    "7. **Strengthening Social Safety Nets**: States with higher poverty rates might need to strengthen their social safety nets. This can include ensuring adequate food security, access to affordable housing, and financial assistance for those in need.\n",
    "8. **Regional Collaboration**: States that share similar economic profiles could benefit from regional collaboration to address common issues such as poverty, unemployment, and economic development.\n",
    "9. **Monitoring and Evaluation**: Implementing robust monitoring and evaluation systems to track the effectiveness of poverty reduction programs can help ensure that resources are being used effectively and that programs are adjusted based on outcomes.\n",
    "\n",
    "These insights can guide policy-makers, community leaders, and stakeholders in making informed decisions to foster economic growth and reduce poverty. Each insight should be considered within the context of broader economic trends and the specific needs of each state's population."
   ]
  }
 ],
 "metadata": {
  "kernelspec": {
   "display_name": "Python 3",
   "language": "python",
   "name": "python3"
  },
  "language_info": {
   "codemirror_mode": {
    "name": "ipython",
    "version": 3
   },
   "file_extension": ".py",
   "mimetype": "text/x-python",
   "name": "python",
   "nbconvert_exporter": "python",
   "pygments_lexer": "ipython3",
   "version": "3.12.1"
  }
 },
 "nbformat": 4,
 "nbformat_minor": 2
}
