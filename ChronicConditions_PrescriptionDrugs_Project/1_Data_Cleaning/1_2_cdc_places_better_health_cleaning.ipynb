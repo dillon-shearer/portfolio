{
 "cells": [
  {
   "cell_type": "code",
   "execution_count": null,
   "metadata": {},
   "outputs": [],
   "source": [
    "import pandas as pd\n",
    "import os"
   ]
  },
  {
   "cell_type": "code",
   "execution_count": null,
   "metadata": {},
   "outputs": [],
   "source": [
    "# Move directory from notebooks to main\n",
    "os.chdir('..')\n",
    "cwd = os.getcwd()"
   ]
  },
  {
   "cell_type": "markdown",
   "metadata": {},
   "source": [
    "### CDC PLACES Local Data for Better Health (2023 flavor)"
   ]
  },
  {
   "cell_type": "markdown",
   "metadata": {},
   "source": [
    "##### Load data"
   ]
  },
  {
   "cell_type": "code",
   "execution_count": null,
   "metadata": {},
   "outputs": [],
   "source": [
    "cdc_df = pd.read_csv(cwd + f'\\\\data\\\\raw\\\\PLACES__Local_Data_for_Better_Health__County_Data_2023_release_20240811.csv')\n",
    "\n",
    "cdc_df.head()"
   ]
  },
  {
   "cell_type": "markdown",
   "metadata": {},
   "source": [
    "##### Filter to only 2021 (most recent)"
   ]
  },
  {
   "cell_type": "code",
   "execution_count": null,
   "metadata": {},
   "outputs": [],
   "source": [
    "# Filter the CDC dataset to include only records from 2021\n",
    "cdc_df_2021 = cdc_df[cdc_df['Year'] == 2021]"
   ]
  },
  {
   "cell_type": "markdown",
   "metadata": {},
   "source": [
    "##### Standardize geo information"
   ]
  },
  {
   "cell_type": "code",
   "execution_count": null,
   "metadata": {},
   "outputs": [],
   "source": [
    "# Standardize geographic information in the CDC dataset\n",
    "cdc_df_2021['GEO_TYPE'] = cdc_df_2021['StateDesc'].apply(lambda x: 'National' if x == 'United States' else 'State')\n",
    "cdc_df_2021['GEO_VALUE'] = cdc_df_2021['StateDesc'].apply(lambda x: 'United States' if x == 'United States' else x)"
   ]
  },
  {
   "cell_type": "markdown",
   "metadata": {},
   "source": [
    "##### Aggregate county percentages into a weighted percentage value for state-level"
   ]
  },
  {
   "cell_type": "code",
   "execution_count": null,
   "metadata": {},
   "outputs": [],
   "source": [
    "# Aggregate county-level data to state level using a weighted average\n",
    "cdc_state_df = cdc_df_2021[cdc_df_2021['GEO_TYPE'] == 'State'].copy()"
   ]
  },
  {
   "cell_type": "code",
   "execution_count": null,
   "metadata": {},
   "outputs": [],
   "source": [
    "# Calculate weighted average for each state and condition\n",
    "cdc_state_aggregated = cdc_state_df.groupby(['StateDesc', 'Measure']).apply(\n",
    "    lambda x: pd.Series({\n",
    "        'Weighted_Average': (x['Data_Value'] * x['TotalPopulation']).sum() / x['TotalPopulation'].sum(),\n",
    "        'Total_Population': x['TotalPopulation'].sum()\n",
    "    })\n",
    ").reset_index()\n",
    "\n",
    "# Drop unnecessary columns, keeping only those of interest\n",
    "columns_to_keep = ['StateDesc', 'Measure', 'GEO_TYPE', 'GEO_VALUE']\n",
    "cdc_state_df_cleaned = cdc_state_df[columns_to_keep]\n",
    "\n",
    "# Merge the aggregated results back with the cleaned data\n",
    "cdc_state_aggregated = pd.merge(\n",
    "    cdc_state_aggregated, \n",
    "    cdc_state_df_cleaned,\n",
    "    on=['StateDesc', 'Measure'], \n",
    "    how='left'\n",
    ").drop_duplicates()\n",
    "\n",
    "# Drop the 'StateDesc' column after merging\n",
    "cdc_state_aggregated = cdc_state_aggregated.drop(columns=['StateDesc'])\n"
   ]
  },
  {
   "cell_type": "markdown",
   "metadata": {},
   "source": [
    "##### Filter to Measures of interest"
   ]
  },
  {
   "cell_type": "code",
   "execution_count": null,
   "metadata": {},
   "outputs": [],
   "source": [
    "# Define the relevant measures and their shorthand names\n",
    "measure_shorthand_mapping = {\n",
    "    'Diagnosed diabetes among adults aged >=18 years': 'Diabetes',\n",
    "    'High blood pressure among adults aged >=18 years': 'Hypertension',\n",
    "    'High cholesterol among adults aged >=18 years who have been screened in the past 5 years': 'High_Cholesterol',\n",
    "    'Chronic obstructive pulmonary disease among adults aged >=18 years': 'COPD',\n",
    "    'Coronary heart disease among adults aged >=18 years': 'Heart_Disease',\n",
    "    'Arthritis among adults aged >=18 years': 'Arthritis',\n",
    "    'Current asthma among adults aged >=18 years': 'Asthma',\n",
    "    'Depression among adults aged >=18 years': 'Depression',\n",
    "    'Chronic kidney disease among adults aged >=18 years': 'CKD'\n",
    "}\n",
    "\n",
    "# Filter the CDC dataset to include only the relevant measures and add the shorthand column\n",
    "cdc_filtered_df = cdc_state_aggregated[cdc_state_aggregated['Measure'].isin(measure_shorthand_mapping.keys())]\n",
    "\n",
    "# Add the shorthand column\n",
    "cdc_filtered_df['Measure_Short'] = cdc_filtered_df['Measure'].map(measure_shorthand_mapping)"
   ]
  },
  {
   "cell_type": "markdown",
   "metadata": {},
   "source": [
    "##### Re-order cols to final"
   ]
  },
  {
   "cell_type": "code",
   "execution_count": null,
   "metadata": {},
   "outputs": [],
   "source": [
    "# Reorder the columns as specified\n",
    "cdc_filtered_df = cdc_filtered_df[['GEO_TYPE', 'GEO_VALUE', 'Measure', 'Measure_Short', 'Weighted_Average', 'Total_Population']]"
   ]
  },
  {
   "cell_type": "markdown",
   "metadata": {},
   "source": [
    "##### Send to dataframe"
   ]
  },
  {
   "cell_type": "markdown",
   "metadata": {},
   "source": [
    "# Save the processed CDC data to a CSV file\n",
    "cdc_filtered_df.to_csv(cwd + f'/data/processed/processed_CDC_PLACES_data.csv', index=False)"
   ]
  }
 ],
 "metadata": {
  "kernelspec": {
   "display_name": "Python 3",
   "language": "python",
   "name": "python3"
  },
  "language_info": {
   "codemirror_mode": {
    "name": "ipython",
    "version": 3
   },
   "file_extension": ".py",
   "mimetype": "text/x-python",
   "name": "python",
   "nbconvert_exporter": "python",
   "pygments_lexer": "ipython3",
   "version": "3.10.7"
  }
 },
 "nbformat": 4,
 "nbformat_minor": 2
}
